{
 "cells": [
  {
   "cell_type": "code",
   "execution_count": 2,
   "metadata": {
    "vscode": {
     "languageId": "csharp"
    }
   },
   "outputs": [
    {
     "data": {
      "text/html": [
       "<div><div></div><div></div><div><strong>Installed Packages</strong><ul><li><span>Qdrant.Client, 1.7.0</span></li></ul></div></div>"
      ]
     },
     "metadata": {},
     "output_type": "display_data"
    }
   ],
   "source": [
    "#r \"nuget: Qdrant.Client, 1.7.0\""
   ]
  },
  {
   "cell_type": "code",
   "execution_count": 3,
   "metadata": {
    "vscode": {
     "languageId": "csharp"
    }
   },
   "outputs": [],
   "source": [
    "using Qdrant.Client;\n",
    "\n",
    "// The C# client uses Qdrant's GRPC interface\n",
    "var client = new QdrantClient(\"localhost\", 6334);"
   ]
  },
  {
   "cell_type": "markdown",
   "metadata": {},
   "source": [
    "## Create a collection"
   ]
  },
  {
   "cell_type": "code",
   "execution_count": 4,
   "metadata": {
    "vscode": {
     "languageId": "csharp"
    }
   },
   "outputs": [],
   "source": [
    "using Qdrant.Client.Grpc;\n",
    "\n",
    "await client.CreateCollectionAsync(\n",
    "\tcollectionName: \"test_collection\",\n",
    "\tvectorsConfig: new VectorParams { Size = 4, Distance = Distance.Dot }\n",
    ");"
   ]
  },
  {
   "cell_type": "markdown",
   "metadata": {},
   "source": [
    "## Add vector"
   ]
  },
  {
   "cell_type": "code",
   "execution_count": 5,
   "metadata": {
    "vscode": {
     "languageId": "csharp"
    }
   },
   "outputs": [
    {
     "name": "stdout",
     "output_type": "stream",
     "text": [
      "{ \"operationId\": \"0\", \"status\": \"Completed\" }\n"
     ]
    }
   ],
   "source": [
    "using Qdrant.Client.Grpc;\n",
    "\n",
    "var operationInfo = await client.UpsertAsync(\n",
    "\tcollectionName: \"test_collection\",\n",
    "\tpoints: new List<PointStruct>\n",
    "\t{\n",
    "\t\tnew()\n",
    "\t\t{\n",
    "\t\t\tId = 1,\n",
    "\t\t\tVectors = new float[] { 0.05f, 0.61f, 0.76f, 0.74f },\n",
    "\t\t\tPayload = { [\"city\"] = \"Berlin\" }\n",
    "\t\t},\n",
    "\t\tnew()\n",
    "\t\t{\n",
    "\t\t\tId = 2,\n",
    "\t\t\tVectors = new float[] { 0.19f, 0.81f, 0.75f, 0.11f },\n",
    "\t\t\tPayload = { [\"city\"] = \"London\" }\n",
    "\t\t},\n",
    "\t\tnew()\n",
    "\t\t{\n",
    "\t\t\tId = 3,\n",
    "\t\t\tVectors = new float[] { 0.36f, 0.55f, 0.47f, 0.94f },\n",
    "\t\t\tPayload = { [\"city\"] = \"Moscow\" }\n",
    "\t\t},\n",
    "\t\t// Truncated\n",
    "\t}\n",
    ");\n",
    "\n",
    "Console.WriteLine(operationInfo);"
   ]
  }
 ],
 "metadata": {
  "kernelspec": {
   "display_name": ".NET (C#)",
   "language": "C#",
   "name": ".net-csharp"
  },
  "language_info": {
   "file_extension": ".cs",
   "mimetype": "text/x-csharp",
   "name": "C#",
   "pygments_lexer": "csharp",
   "version": "12.0"
  }
 },
 "nbformat": 4,
 "nbformat_minor": 2
}
