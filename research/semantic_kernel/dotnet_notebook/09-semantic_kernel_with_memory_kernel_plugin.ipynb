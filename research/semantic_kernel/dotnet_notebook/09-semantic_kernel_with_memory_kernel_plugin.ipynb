{
 "cells": [
  {
   "cell_type": "markdown",
   "metadata": {},
   "source": [
    "# Samples 09-semantic_kernel_with_memory_kernel_plugin\n",
    "\n",
    "Source : <https://github.com/microsoft/kernel-memory/blob/main/examples/003-dotnet-SemanticKernel-plugin/Program.cs>"
   ]
  },
  {
   "cell_type": "code",
   "execution_count": 2,
   "metadata": {
    "dotnet_interactive": {
     "language": "csharp"
    },
    "polyglot_notebook": {
     "kernelName": "csharp"
    },
    "vscode": {
     "languageId": "polyglot-notebook"
    }
   },
   "outputs": [],
   "source": [
    "// Load some helper functions, e.g. to load values from settings.json\n",
    "#!import config/Settings.cs"
   ]
  },
  {
   "cell_type": "code",
   "execution_count": 4,
   "metadata": {
    "dotnet_interactive": {
     "language": "csharp"
    },
    "polyglot_notebook": {
     "kernelName": "csharp"
    },
    "vscode": {
     "languageId": "polyglot-notebook"
    }
   },
   "outputs": [
    {
     "data": {
      "text/html": [
       "<div><div></div><div></div><div><strong>Installed Packages</strong><ul><li><span>Microsoft.KernelMemory.SemanticKernelPlugin, 0.62.240605.1</span></li><li><span>Microsoft.KernelMemory.WebClient, 0.62.240605.1</span></li><li><span>Microsoft.SemanticKernel, 1.14.1</span></li></ul></div></div>"
      ]
     },
     "metadata": {},
     "output_type": "display_data"
    }
   ],
   "source": [
    "// Import Semantic Kernel\n",
    "#r \"nuget: Microsoft.SemanticKernel\"\n",
    "#r \"nuget: Microsoft.KernelMemory.WebClient\"\n",
    "#r \"nuget: Microsoft.KernelMemory.SemanticKernelPlugin\""
   ]
  },
  {
   "cell_type": "markdown",
   "metadata": {},
   "source": [
    "## Instantiate the kernel"
   ]
  },
  {
   "cell_type": "code",
   "execution_count": 5,
   "metadata": {
    "dotnet_interactive": {
     "language": "csharp"
    },
    "polyglot_notebook": {
     "kernelName": "csharp"
    },
    "vscode": {
     "languageId": "polyglot-notebook"
    }
   },
   "outputs": [],
   "source": [
    "using Microsoft.SemanticKernel;\n",
    "using Kernel = Microsoft.SemanticKernel.Kernel;\n",
    "using Microsoft.SemanticKernel.Connectors.OpenAI;\n",
    "using Microsoft.KernelMemory;\n",
    "using Microsoft.SemanticKernel.ChatCompletion;\n",
    "\n"
   ]
  },
  {
   "cell_type": "code",
   "execution_count": 6,
   "metadata": {
    "dotnet_interactive": {
     "language": "csharp"
    },
    "polyglot_notebook": {
     "kernelName": "csharp"
    },
    "vscode": {
     "languageId": "polyglot-notebook"
    }
   },
   "outputs": [
    {
     "name": "stdout",
     "output_type": "stream",
     "text": [
      "Use Azure Open AI : True\n",
      "Model : gpt-35-turbo-16k\n",
      "Azure EndPoint : https://oai-ygo74-switzerland.openai.azure.com/\n"
     ]
    }
   ],
   "source": [
    "// Configure AI service credentials used by the kernel\n",
    "var (useAzureOpenAI, model, azureEndpoint, apiKey, orgId) = Settings.LoadFromFile();\n",
    "\n",
    "Console.WriteLine($\"Use Azure Open AI : {useAzureOpenAI}\");\n",
    "Console.WriteLine($\"Model : {model}\");\n",
    "Console.WriteLine($\"Azure EndPoint : {azureEndpoint}\");\n",
    "// Console.WriteLine($\"API Key : {apiKey}\");\n",
    "\n",
    "//Create Kernel builder\n",
    "var builder = Kernel.CreateBuilder();\n",
    "\n",
    "if (useAzureOpenAI)\n",
    "    builder.AddAzureOpenAIChatCompletion(model, azureEndpoint, apiKey);\n",
    "else\n",
    "    builder.AddOpenAIChatCompletion(model, apiKey, orgId);\n",
    "\n",
    "var kernel = builder.Build();"
   ]
  },
  {
   "cell_type": "markdown",
   "metadata": {},
   "source": [
    "## Create prompt function"
   ]
  },
  {
   "cell_type": "code",
   "execution_count": 22,
   "metadata": {
    "dotnet_interactive": {
     "language": "csharp"
    },
    "polyglot_notebook": {
     "kernelName": "csharp"
    },
    "vscode": {
     "languageId": "polyglot-notebook"
    }
   },
   "outputs": [],
   "source": [
    "var promptOptions = new OpenAIPromptExecutionSettings {\n",
    "    ChatSystemPrompt = \"Answer or say \\\"I don't know\\\".\",\n",
    "    MaxTokens = 8191,\n",
    "    Temperature = 0,\n",
    "    TopP = 0\n",
    "};\n",
    "\n",
    "\n",
    "var skPrompt = \"\"\"\n",
    "Question: {{$input}}\n",
    "Tool call result: {{memory.ask $input index='assurances'}}\n",
    "If the answer is empty say \"I don't know\", otherwise reply with a preview of the answer, truncated to 15 words.\n",
    "\"\"\";\n",
    "\n",
    "var myFunction = kernel.CreateFunctionFromPrompt(skPrompt, promptOptions);"
   ]
  },
  {
   "cell_type": "markdown",
   "metadata": {},
   "source": [
    "## Add memory plugin"
   ]
  },
  {
   "cell_type": "code",
   "execution_count": 8,
   "metadata": {
    "dotnet_interactive": {
     "language": "csharp"
    },
    "polyglot_notebook": {
     "kernelName": "csharp"
    },
    "vscode": {
     "languageId": "polyglot-notebook"
    }
   },
   "outputs": [],
   "source": [
    "var s_memory = new MemoryWebClient(\"http://127.0.0.1:9001/\");\n",
    "\n",
    "var memoryPlugin = kernel.ImportPluginFromObject(new MemoryPlugin(s_memory, waitForIngestionToComplete: true), \"memory\");"
   ]
  },
  {
   "cell_type": "code",
   "execution_count": 24,
   "metadata": {
    "dotnet_interactive": {
     "language": "csharp"
    },
    "polyglot_notebook": {
     "kernelName": "csharp"
    },
    "vscode": {
     "languageId": "polyglot-notebook"
    }
   },
   "outputs": [
    {
     "name": "stdout",
     "output_type": "stream",
     "text": [
      "Question: Quels sont les territoires et pays exclus de la couverture de l'assurance?\n",
      "\n",
      "Answer: Les territoires et pays exclus de la couverture de l'assurance sont les suivants: Afghanistan, Biélorussie, Birmanie/Myanmar, région de Crimée et r.\n",
      "\n",
      "  Sources:\n",
      "\n"
     ]
    }
   ],
   "source": [
    "var question = \"Quels sont les territoires et pays exclus de la couverture de l'assurance?\";\n",
    "Console.WriteLine($\"Question: {question}\");\n",
    "\n",
    "var answer = await myFunction.InvokeAsync(kernel, question);\n",
    "Console.WriteLine($\"\\nAnswer: {answer}\\n\\n  Sources:\\n\");\n"
   ]
  },
  {
   "cell_type": "code",
   "execution_count": null,
   "metadata": {
    "dotnet_interactive": {
     "language": "csharp"
    },
    "polyglot_notebook": {
     "kernelName": "csharp"
    },
    "vscode": {
     "languageId": "polyglot-notebook"
    }
   },
   "outputs": [],
   "source": [
    "## Chat"
   ]
  },
  {
   "cell_type": "code",
   "execution_count": 10,
   "metadata": {
    "dotnet_interactive": {
     "language": "csharp"
    },
    "polyglot_notebook": {
     "kernelName": "csharp"
    },
    "vscode": {
     "languageId": "polyglot-notebook"
    }
   },
   "outputs": [
    {
     "name": "stdout",
     "output_type": "stream",
     "text": [
      "# Starting chat...\r\n"
     ]
    }
   ],
   "source": [
    "Console.WriteLine(\"# Starting chat...\");\n",
    "var chatService = kernel.GetRequiredService<IChatCompletionService>();\n"
   ]
  },
  {
   "cell_type": "code",
   "execution_count": 17,
   "metadata": {
    "dotnet_interactive": {
     "language": "csharp"
    },
    "polyglot_notebook": {
     "kernelName": "csharp"
    },
    "vscode": {
     "languageId": "polyglot-notebook"
    }
   },
   "outputs": [
    {
     "name": "stdout",
     "output_type": "stream",
     "text": [
      "Copilot> Hello, how can I help?\n",
      "\r\n"
     ]
    }
   ],
   "source": [
    "// Chat setup\n",
    "var systemPrompt = \"\"\"\n",
    "                    You are a helpful assistant replying to user questions using information from your memory.\n",
    "                    Reply very briefly and concisely, get to the point immediately. Don't provide long explanations unless necessary.\n",
    "                    Sometimes you don't have relevant memories so you reply saying you don't know, don't have the information.\n",
    "                    The topic of the conversation is assurance to a USA roadtrip.\n",
    "                    \"\"\";\n",
    "\n",
    "var chatHistory = new ChatHistory(systemPrompt);\n",
    "\n",
    "// Start the chat\n",
    "var assistantMessage = \"Hello, how can I help?\";\n",
    "Console.WriteLine($\"Copilot> {assistantMessage}\\n\");\n",
    "chatHistory.AddAssistantMessage(assistantMessage);\n",
    "\n"
   ]
  },
  {
   "cell_type": "code",
   "execution_count": 25,
   "metadata": {
    "dotnet_interactive": {
     "language": "csharp"
    },
    "polyglot_notebook": {
     "kernelName": "csharp"
    },
    "vscode": {
     "languageId": "polyglot-notebook"
    }
   },
   "outputs": [
    {
     "name": "stdout",
     "output_type": "stream",
     "text": [
      "You> \n",
      "Copilot> Voici ce qui n'est pas couvert par l'assurance : guerres, catastrophes naturelles, usage de substances non médicales, etc.\n",
      "\n"
     ]
    }
   ],
   "source": [
    "//\n",
    "// Infinite chat loop\n",
    "var reply = new StringBuilder();\n",
    "\n",
    "// Get user message (retry if the user enters an empty string)\n",
    "Console.Write(\"You> \");\n",
    "var question = \"Qu'est-ce qui n'est pas couvert par l'assurance?\";\n",
    "\n",
    "var promptTemplateFactory = new KernelPromptTemplateFactory();\n",
    "var arguments = new KernelArguments\n",
    "{\n",
    "    [\"input\"] = question\n",
    "};\n",
    "\n",
    "string userMessage = await promptTemplateFactory.Create(new PromptTemplateConfig(skPrompt)).RenderAsync(kernel, arguments);\n",
    "chatHistory.AddUserMessage(userMessage);\n",
    "\n",
    "// Generate the next chat message, stream the response\n",
    "Console.Write(\"\\nCopilot> \");\n",
    "reply.Clear();\n",
    "\n",
    "await foreach (StreamingChatMessageContent stream in chatService.GetStreamingChatMessageContentsAsync(chatHistory))\n",
    "{\n",
    "    Console.Write(stream.Content);\n",
    "    reply.Append(stream.Content);\n",
    "}\n",
    "\n",
    "chatHistory.AddAssistantMessage(reply.ToString());\n",
    "Console.WriteLine(\"\\n\");\n",
    "\n"
   ]
  },
  {
   "cell_type": "markdown",
   "metadata": {},
   "source": []
  }
 ],
 "metadata": {
  "kernelspec": {
   "display_name": ".NET (C#)",
   "language": "C#",
   "name": ".net-csharp"
  },
  "language_info": {
   "name": "python"
  },
  "polyglot_notebook": {
   "kernelInfo": {
    "defaultKernelName": "csharp",
    "items": [
     {
      "aliases": [],
      "name": "csharp"
     }
    ]
   }
  }
 },
 "nbformat": 4,
 "nbformat_minor": 2
}
