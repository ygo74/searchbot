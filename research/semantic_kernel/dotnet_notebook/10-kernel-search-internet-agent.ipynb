{
 "cells": [
  {
   "cell_type": "markdown",
   "metadata": {},
   "source": [
    "# Samples 10-kernel-search-internet-agent\n",
    "\n",
    "Source : "
   ]
  },
  {
   "cell_type": "code",
   "execution_count": 22,
   "metadata": {
    "dotnet_interactive": {
     "language": "csharp"
    },
    "polyglot_notebook": {
     "kernelName": "csharp"
    },
    "vscode": {
     "languageId": "polyglot-notebook"
    }
   },
   "outputs": [
    {
     "data": {
      "text/html": [
       "<div><div></div><div></div><div><strong>Installed Packages</strong><ul><li><span>dotenv.net, 3.1.3</span></li><li><span>Microsoft.SemanticKernel, 1.14.1</span></li><li><span>Microsoft.SemanticKernel.Plugins.Core, 1.14.1-alpha</span></li><li><span>Microsoft.SemanticKernel.Plugins.Web, 1.14.1-alpha</span></li></ul></div></div>"
      ]
     },
     "metadata": {},
     "output_type": "display_data"
    }
   ],
   "source": [
    "// Import Semantic Kernel\n",
    "#r \"nuget: Microsoft.SemanticKernel, 1.14.1\"\n",
    "#r \"nuget: Microsoft.SemanticKernel.Plugins.Web, 1.14.1-alpha\"\n",
    "#r \"nuget: Microsoft.SemanticKernel.Plugins.Core, 1.14.1-alpha\"\n",
    "#r \"nuget: dotenv.net\""
   ]
  },
  {
   "cell_type": "code",
   "execution_count": 25,
   "metadata": {
    "dotnet_interactive": {
     "language": "csharp"
    },
    "polyglot_notebook": {
     "kernelName": "csharp"
    },
    "vscode": {
     "languageId": "polyglot-notebook"
    }
   },
   "outputs": [
    {
     "data": {
      "text/html": [
       "<div><div></div><div></div><div><strong>Installed Packages</strong><ul><li><span>microsoft.extensions.dependencyinjection, 8.0.0</span></li><li><span>microsoft.extensions.logging, 8.0.0</span></li><li><span>microsoft.extensions.logging.abstractions, 8.0.1</span></li><li><span>Microsoft.Extensions.Logging.Console, 8.0.0</span></li><li><span>Microsoft.Extensions.Logging.Debug, 8.0.0</span></li></ul></div></div>"
      ]
     },
     "metadata": {},
     "output_type": "display_data"
    }
   ],
   "source": [
    "#r \"nuget: Microsoft.Extensions.Logging\"\n",
    "#r \"nuget: Microsoft.Extensions.Logging.Abstractions\"\n",
    "#r \"nuget: Microsoft.Extensions.Logging.Console\"\n",
    "#r \"nuget: Microsoft.Extensions.Logging.Debug\"\n",
    "#r \"nuget: Microsoft.Extensions.DependencyInjection\""
   ]
  },
  {
   "cell_type": "markdown",
   "metadata": {},
   "source": [
    "## Instantiate the kernel\n"
   ]
  },
  {
   "cell_type": "code",
   "execution_count": 27,
   "metadata": {
    "dotnet_interactive": {
     "language": "csharp"
    },
    "polyglot_notebook": {
     "kernelName": "csharp"
    },
    "vscode": {
     "languageId": "polyglot-notebook"
    }
   },
   "outputs": [
    {
     "name": "stdout",
     "output_type": "stream",
     "text": [
      "Use Azure Open AI : True\n",
      "Model : gpt-35-turbo-16k\n",
      "Azure EndPoint : https://oai-ygo74-switzerland.openai.azure.com/\n"
     ]
    }
   ],
   "source": [
    "// Load some helper functions, e.g. to load values from settings.json\n",
    "#!import config/Settings.cs\n",
    "using Microsoft.Extensions.Configuration;\n",
    "using Microsoft.Extensions.DependencyInjection;\n",
    "using Microsoft.Extensions.Logging;\n",
    "using Microsoft.SemanticKernel;\n",
    "using Microsoft.SemanticKernel.ChatCompletion;\n",
    "using Microsoft.SemanticKernel.Connectors.OpenAI;\n",
    "\n",
    "//Create Kernel builder\n",
    "var builder = Kernel.CreateBuilder();\n",
    "\n",
    "// Configure AI service credentials used by the kernel\n",
    "var (useAzureOpenAI, model, azureEndpoint, apiKey, orgId) = Settings.LoadFromFile();\n",
    "\n",
    "Console.WriteLine($\"Use Azure Open AI : {useAzureOpenAI}\");\n",
    "Console.WriteLine($\"Model : {model}\");\n",
    "Console.WriteLine($\"Azure EndPoint : {azureEndpoint}\");\n",
    "// Console.WriteLine($\"API Key : {apiKey}\");\n",
    "\n",
    "if (useAzureOpenAI)\n",
    "    builder.AddAzureOpenAIChatCompletion(model, azureEndpoint, apiKey);\n",
    "else\n",
    "    builder.AddOpenAIChatCompletion(model, apiKey, orgId);\n",
    "\n",
    "\n",
    "// Logger\n",
    "builder.Services.AddLogging(c => c.AddDebug().SetMinimumLevel(LogLevel.Trace));\n",
    "\n",
    "\n",
    "var kernel = builder.Build();"
   ]
  },
  {
   "cell_type": "code",
   "execution_count": 28,
   "metadata": {
    "dotnet_interactive": {
     "language": "csharp"
    },
    "polyglot_notebook": {
     "kernelName": "csharp"
    },
    "vscode": {
     "languageId": "polyglot-notebook"
    }
   },
   "outputs": [],
   "source": [
    "using Microsoft.SemanticKernel.Plugins.Web.Google;\n",
    "using Microsoft.SemanticKernel.Plugins.Web;\n",
    "using Microsoft.SemanticKernel.Agents.Chat;\n",
    "using Microsoft.SemanticKernel.Agents;\n",
    "using Microsoft.SemanticKernel.ChatCompletion;\n"
   ]
  },
  {
   "cell_type": "code",
   "execution_count": 29,
   "metadata": {
    "dotnet_interactive": {
     "language": "csharp"
    },
    "polyglot_notebook": {
     "kernelName": "csharp"
    },
    "vscode": {
     "languageId": "polyglot-notebook"
    }
   },
   "outputs": [],
   "source": [
    "#pragma warning disable SKEXP0001, SKEXP0010, SKEXP0020, SKEXP0050\n",
    "\n",
    "using dotenv.net;\n",
    "// var options = new DotEnvOptions(envFilePaths: new String[] {@\"./config\"});\n",
    "\n",
    "dotenv.net.DotEnv.Load();\n",
    "var env = dotenv.net.DotEnv.Read();\n",
    "\n",
    "string googleApiKey=env[ \"GOOGLE_SEARCH_API_KEY\" ];\n",
    "string googleSearchEngineId=env[ \"GOOGLE_SEARCH_CENTER_CONNECTION_ID\" ];\n",
    "\n",
    "var googleConnector = new Microsoft.SemanticKernel.Plugins.Web.Google.GoogleConnector(\n",
    "        apiKey: googleApiKey,\n",
    "        searchEngineId: googleSearchEngineId);\n",
    "\n",
    "var google = new WebSearchEnginePlugin(googleConnector);\n",
    "kernel.ImportPluginFromObject(new WebSearchEnginePlugin(googleConnector), \"google\");"
   ]
  },
  {
   "cell_type": "code",
   "execution_count": 30,
   "metadata": {
    "dotnet_interactive": {
     "language": "csharp"
    },
    "polyglot_notebook": {
     "kernelName": "csharp"
    },
    "vscode": {
     "languageId": "polyglot-notebook"
    }
   },
   "outputs": [],
   "source": [
    "var internet_searcher  = \"\"\"\n",
    "You are a world class researcher, who can detailed research on any topic and produce facts based results;\n",
    "You do not make things up, you will try as hard as possible to gather facts and data to back up the research.\n",
    "\n",
    "You have the functions google_search to find elements on the web.\n",
    "You have the functions scrape_website to rerieve content of a page.\n",
    "if you have to search a person, use simple quote for the first name and last name. If you want to limit a query to a specific site, use site keyword to limit the search to a specific site\n",
    "\n",
    "Please make sure you complete the objective above with the following rules:\n",
    "1. You should do enough research to gather as much information as possible about the objective\n",
    "2. If there are url of relevant links and articles, you will scrape it with the scrape_website function to gather more information\n",
    "3. After scraping and search, you should think \"Is there any new things I should search and scraping based on the data I collected to increase research quality? If answer is yes, continue; But don' do this more than 3 iterations.\n",
    "4. You should not make things up, you should only write facts and data that you gathered\n",
    "5. In the final output, You should include all reference data and links to back up your research.\n",
    "6. Do not use G2, they are mostly out dated data\n",
    "\n",
    "SAY TERMINATE when you found the result.\n",
    "\n",
    "---\n",
    "Here are expected examples :\n",
    "\n",
    "Example :\n",
    "question : search devops on github\n",
    "query : devops site:github.com\n",
    "\n",
    "Example :\n",
    "question : find contribution for code from Yannick GOBERT a devops engineer on internet, he can be known with his alias ygo or ygo74\n",
    "query : contribution for code from 'Yannick GOBERT' devops engineer\n",
    "\n",
    "Example :\n",
    "question : find contribution for code from Yannick GOBERT a devops engineer on internet, he can be known with his alias ygo or ygo74\n",
    "query : contribution for code from 'YGO74' devops engineer\n",
    "\n",
    "\n",
    "\"\"\";"
   ]
  },
  {
   "cell_type": "code",
   "execution_count": 31,
   "metadata": {
    "dotnet_interactive": {
     "language": "csharp"
    },
    "polyglot_notebook": {
     "kernelName": "csharp"
    },
    "vscode": {
     "languageId": "polyglot-notebook"
    }
   },
   "outputs": [],
   "source": [
    "// Retrieve the chat completion service from the kernel\n",
    "IChatCompletionService chatCompletionService = kernel.GetRequiredService<IChatCompletionService>();\n"
   ]
  },
  {
   "cell_type": "code",
   "execution_count": 32,
   "metadata": {
    "dotnet_interactive": {
     "language": "csharp"
    },
    "polyglot_notebook": {
     "kernelName": "csharp"
    },
    "vscode": {
     "languageId": "polyglot-notebook"
    }
   },
   "outputs": [],
   "source": [
    "ChatHistory chatMessages = new ChatHistory();\n",
    "chatMessages.AddSystemMessage(internet_searcher);\n"
   ]
  },
  {
   "cell_type": "code",
   "execution_count": 33,
   "metadata": {
    "dotnet_interactive": {
     "language": "csharp"
    },
    "polyglot_notebook": {
     "kernelName": "csharp"
    },
    "vscode": {
     "languageId": "polyglot-notebook"
    }
   },
   "outputs": [],
   "source": [
    "var question = \"Qui a gané la ligue des champions de football en 2024\";\n",
    "chatMessages.AddUserMessage(question);\n",
    "\n",
    "// Get the chat completions\n",
    "OpenAIPromptExecutionSettings openAIPromptExecutionSettings = new()\n",
    "{\n",
    "    ToolCallBehavior  = ToolCallBehavior.AutoInvokeKernelFunctions\n",
    "};\n",
    "\n",
    "var result = chatCompletionService.GetStreamingChatMessageContentsAsync(\n",
    "    chatMessages,\n",
    "    executionSettings: openAIPromptExecutionSettings,\n",
    "    kernel: kernel);"
   ]
  },
  {
   "cell_type": "code",
   "execution_count": 34,
   "metadata": {
    "dotnet_interactive": {
     "language": "csharp"
    },
    "polyglot_notebook": {
     "kernelName": "csharp"
    },
    "vscode": {
     "languageId": "polyglot-notebook"
    }
   },
   "outputs": [
    {
     "name": "stdout",
     "output_type": "stream",
     "text": [
      "Assistant > Assistant > Je suis désolé, mais je ne suis pas capable de prédire l'avenir. La ligue des champions de football de 2024 n'a pas encore eu lieu, donc je ne peux pas vous dire qui en sera le vainqueur.\n"
     ]
    }
   ],
   "source": [
    "// Stream the results\n",
    "    string fullMessage = \"\";\n",
    "    await foreach (var content in result)\n",
    "    {\n",
    "        if (content.Role.HasValue)\n",
    "        {\n",
    "            System.Console.Write(\"Assistant > \");\n",
    "        }\n",
    "        System.Console.Write(content.Content);\n",
    "        fullMessage += content.Content;\n",
    "    }\n",
    "    System.Console.WriteLine();\n",
    "    chatMessages.AddAssistantMessage(fullMessage);"
   ]
  }
 ],
 "metadata": {
  "kernelspec": {
   "display_name": ".NET (C#)",
   "language": "C#",
   "name": ".net-csharp"
  },
  "language_info": {
   "name": "python"
  },
  "polyglot_notebook": {
   "kernelInfo": {
    "defaultKernelName": "csharp",
    "items": [
     {
      "aliases": [],
      "name": "csharp"
     }
    ]
   }
  }
 },
 "nbformat": 4,
 "nbformat_minor": 2
}
