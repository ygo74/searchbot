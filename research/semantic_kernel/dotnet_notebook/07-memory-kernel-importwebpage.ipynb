{
 "cells": [
  {
   "cell_type": "markdown",
   "metadata": {},
   "source": [
    "# Memory Kernel\n",
    "\n",
    "- source : <https://github.com/microsoft/kernel-memory/blob/main/examples/107-dotnet-SemanticKernel-TextCompletion/Program.cs>"
   ]
  },
  {
   "cell_type": "code",
   "execution_count": 1,
   "metadata": {
    "dotnet_interactive": {
     "language": "csharp"
    },
    "polyglot_notebook": {
     "kernelName": "csharp"
    },
    "vscode": {
     "languageId": "polyglot-notebook"
    }
   },
   "outputs": [
    {
     "data": {
      "text/html": [
       "<div><div></div><div></div><div><strong>Installed Packages</strong><ul><li><span>Microsoft.KernelMemory.Core, 0.65.240620.1</span></li></ul></div></div>"
      ]
     },
     "metadata": {},
     "output_type": "display_data"
    }
   ],
   "source": [
    "#r \"nuget: Microsoft.KernelMemory.Core\""
   ]
  },
  {
   "cell_type": "code",
   "execution_count": 2,
   "metadata": {
    "dotnet_interactive": {
     "language": "csharp"
    },
    "polyglot_notebook": {
     "kernelName": "csharp"
    },
    "vscode": {
     "languageId": "polyglot-notebook"
    }
   },
   "outputs": [],
   "source": [
    "using Microsoft.KernelMemory;\n",
    "using Microsoft.KernelMemory.AI.OpenAI;\n",
    "using Microsoft.KernelMemory.SemanticKernel;\n",
    "using Microsoft.SemanticKernel.Connectors.OpenAI;"
   ]
  },
  {
   "cell_type": "code",
   "execution_count": 3,
   "metadata": {
    "dotnet_interactive": {
     "language": "csharp"
    },
    "polyglot_notebook": {
     "kernelName": "csharp"
    },
    "vscode": {
     "languageId": "polyglot-notebook"
    }
   },
   "outputs": [],
   "source": [
    "// Load some helper functions, e.g. to load values from settings.json\n",
    "#!import config/Settings.cs\n",
    "\n",
    "// Configure AI service credentials used by the kernel\n",
    "var (useAzureOpenAI, model, azureEndpoint, apiKey, orgId) = Settings.LoadFromFile();\n"
   ]
  },
  {
   "cell_type": "code",
   "execution_count": 4,
   "metadata": {
    "dotnet_interactive": {
     "language": "csharp"
    },
    "polyglot_notebook": {
     "kernelName": "csharp"
    },
    "vscode": {
     "languageId": "polyglot-notebook"
    }
   },
   "outputs": [],
   "source": [
    "var config = new SemanticKernelConfig();\n",
    "var tokenizer = new DefaultGPTTokenizer();"
   ]
  },
  {
   "cell_type": "code",
   "execution_count": 5,
   "metadata": {
    "dotnet_interactive": {
     "language": "csharp"
    },
    "polyglot_notebook": {
     "kernelName": "csharp"
    },
    "vscode": {
     "languageId": "polyglot-notebook"
    }
   },
   "outputs": [],
   "source": [
    "#pragma warning disable SKEXP0001, SKEXP0010, SKEXP0020, SKEXP0050\n",
    "\n",
    "var memory = new KernelMemoryBuilder()\n",
    "    .WithSemanticKernelTextGenerationService(\n",
    "        new AzureOpenAIChatCompletionService(model, azureEndpoint, apiKey), config, tokenizer)\n",
    "    .WithSemanticKernelTextEmbeddingGenerationService(\n",
    "        new AzureOpenAITextEmbeddingGenerationService(\"text-embedding-ada-002\", azureEndpoint, apiKey), config, tokenizer)\n",
    "    .Build<MemoryServerless>();"
   ]
  },
  {
   "cell_type": "code",
   "execution_count": 6,
   "metadata": {
    "dotnet_interactive": {
     "language": "csharp"
    },
    "polyglot_notebook": {
     "kernelName": "csharp"
    },
    "vscode": {
     "languageId": "polyglot-notebook"
    }
   },
   "outputs": [],
   "source": [
    "await memory.ImportWebPageAsync(\"https://raw.githubusercontent.com/microsoft/kernel-memory/main/COMMUNITY.md\", documentId: \"doc001\");"
   ]
  },
  {
   "cell_type": "code",
   "execution_count": 8,
   "metadata": {
    "dotnet_interactive": {
     "language": "csharp"
    },
    "polyglot_notebook": {
     "kernelName": "csharp"
    },
    "vscode": {
     "languageId": "polyglot-notebook"
    }
   },
   "outputs": [
    {
     "name": "stdout",
     "output_type": "stream",
     "text": [
      "\n",
      "\n",
      "Question: How can I join Kernel Memory's Discord?\n",
      "\n",
      "Answer: To join Kernel Memory's Discord, you can follow the link provided in the facts: [Join our Discord](https://aka.ms/KMdiscord). This will take you to the Discord channel where you can get help, engage in discussions, and share your work with Kernel Memory and Semantic Kernel.\n",
      "\n",
      "\n",
      "  Sources:\n",
      "\n",
      "  - content.url  - default/doc001/e0177f48a5a642e4ae9f52dff1e78ec5 [Saturday, June 22, 2024]\n"
     ]
    }
   ],
   "source": [
    "var question = \"How can I join Kernel Memory's Discord?\";\n",
    "Console.WriteLine($\"\\n\\nQuestion: {question}\");\n",
    "\n",
    "var answer = await memory.AskAsync(question);\n",
    "Console.WriteLine($\"\\nAnswer: {answer.Result}\");\n",
    "\n",
    "Console.WriteLine(\"\\n\\n  Sources:\\n\");\n",
    "foreach (var x in answer.RelevantSources)\n",
    "{\n",
    "    Console.WriteLine($\"  - {x.SourceName}  - {x.Link} [{x.Partitions.First().LastUpdate:D}]\");\n",
    "}"
   ]
  }
 ],
 "metadata": {
  "kernelspec": {
   "display_name": ".NET (C#)",
   "language": "C#",
   "name": ".net-csharp"
  },
  "language_info": {
   "name": "python"
  },
  "polyglot_notebook": {
   "kernelInfo": {
    "defaultKernelName": "csharp",
    "items": [
     {
      "aliases": [],
      "name": "csharp"
     }
    ]
   }
  }
 },
 "nbformat": 4,
 "nbformat_minor": 2
}
