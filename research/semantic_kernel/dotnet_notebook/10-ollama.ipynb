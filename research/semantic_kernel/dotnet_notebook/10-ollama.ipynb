{
 "cells": [
  {
   "cell_type": "code",
   "execution_count": 1,
   "metadata": {
    "dotnet_interactive": {
     "language": "csharp"
    },
    "polyglot_notebook": {
     "kernelName": "csharp"
    },
    "vscode": {
     "languageId": "polyglot-notebook"
    }
   },
   "outputs": [
    {
     "data": {
      "text/html": [
       "<div><div></div><div></div><div><strong>Installed Packages</strong><ul><li><span>Microsoft.KernelMemory.Core, 0.71.240820.1</span></li></ul></div></div>"
      ]
     },
     "metadata": {},
     "output_type": "display_data"
    }
   ],
   "source": [
    "#r \"nuget: Microsoft.KernelMemory.Core\""
   ]
  },
  {
   "cell_type": "code",
   "execution_count": 2,
   "metadata": {
    "dotnet_interactive": {
     "language": "csharp"
    },
    "polyglot_notebook": {
     "kernelName": "csharp"
    },
    "vscode": {
     "languageId": "polyglot-notebook"
    }
   },
   "outputs": [],
   "source": [
    "// Load some helper functions, e.g. to load values from settings.json\n",
    "#!import config/Settings.cs\n",
    "\n",
    "// Configure AI service credentials used by the kernel\n",
    "var (useAzureOpenAI, model, azureEndpoint, apiKey, orgId) = Settings.LoadFromFile();\n"
   ]
  },
  {
   "cell_type": "code",
   "execution_count": 3,
   "metadata": {
    "dotnet_interactive": {
     "language": "csharp"
    },
    "polyglot_notebook": {
     "kernelName": "csharp"
    },
    "vscode": {
     "languageId": "polyglot-notebook"
    }
   },
   "outputs": [
    {
     "name": "stdout",
     "output_type": "stream",
     "text": [
      "warn: Microsoft.KernelMemory.AI.AzureOpenAI.AzureOpenAITextEmbeddingGenerator[0]\n",
      "      Tokenizer not specified, will use GPT4Tokenizer. The token count might be incorrect, causing unexpected errors\n",
      "What's the current date?\n",
      "INFO NOT FOUND. The provided fact states \"Today is October 32nd, 2476,\" but this does not align with our current understanding of dates and years as it exceeds known historical records. Therefore, I cannot confirm the accuracy of that date information.\n"
     ]
    }
   ],
   "source": [
    "using Microsoft.KernelMemory;\n",
    "\n",
    "// Using OpenAI for embeddings\n",
    "var configEmbedding = new AzureOpenAIConfig {\n",
    "    APIKey=apiKey,\n",
    "    Endpoint=azureEndpoint,\n",
    "    Auth=Microsoft.KernelMemory.AzureOpenAIConfig.AuthTypes.APIKey,\n",
    "    Deployment=\"text-embedding-ada-002\"\n",
    "};\n",
    "\n",
    "// Using LM Studio for text generation\n",
    "var lmStudioConfig = new OpenAIConfig\n",
    "{\n",
    "    Endpoint = \"http://localhost:11434/v1/\",\n",
    "    TextModel = \"phi3\",\n",
    "    TextModelMaxTokenTotal = 4096,\n",
    "    APIKey = \"lm-studio\"\n",
    "};\n",
    "\n",
    "var memory = new KernelMemoryBuilder()\n",
    "    .WithAzureOpenAITextEmbeddingGeneration(configEmbedding) // OpenAI\n",
    "    .WithOpenAITextGeneration(lmStudioConfig) // LM Studio\n",
    "    .Build();\n",
    "\n",
    "// Import some text - This will use OpenAI embeddings\n",
    "await memory.ImportTextAsync(\"Today is October 32nd, 2476\");\n",
    "\n",
    "// Generate an answer - This uses OpenAI for embeddings and finding relevant data, and LM Studio to generate an answer\n",
    "var answer = await memory.AskAsync(\"What's the current date?\");\n",
    "Console.WriteLine(answer.Question);\n",
    "Console.WriteLine(answer.Result);\n"
   ]
  }
 ],
 "metadata": {
  "kernelspec": {
   "display_name": ".NET (C#)",
   "language": "C#",
   "name": ".net-csharp"
  },
  "language_info": {
   "name": "python"
  },
  "polyglot_notebook": {
   "kernelInfo": {
    "defaultKernelName": "csharp",
    "items": [
     {
      "aliases": [],
      "name": "csharp"
     }
    ]
   }
  }
 },
 "nbformat": 4,
 "nbformat_minor": 2
}
