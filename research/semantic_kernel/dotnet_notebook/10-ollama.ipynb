{
 "cells": [
  {
   "cell_type": "code",
   "execution_count": 1,
   "metadata": {
    "dotnet_interactive": {
     "language": "csharp"
    },
    "polyglot_notebook": {
     "kernelName": "csharp"
    },
    "vscode": {
     "languageId": "polyglot-notebook"
    }
   },
   "outputs": [
    {
     "data": {
      "text/html": [
       "<div><div></div><div></div><div><strong>Installed Packages</strong><ul><li><span>Microsoft.KernelMemory.Core, 0.62.240605.1</span></li></ul></div></div>"
      ]
     },
     "metadata": {},
     "output_type": "display_data"
    }
   ],
   "source": [
    "#r \"nuget: Microsoft.KernelMemory.Core\""
   ]
  },
  {
   "cell_type": "code",
   "execution_count": 3,
   "metadata": {
    "dotnet_interactive": {
     "language": "csharp"
    },
    "polyglot_notebook": {
     "kernelName": "csharp"
    },
    "vscode": {
     "languageId": "polyglot-notebook"
    }
   },
   "outputs": [],
   "source": [
    "// Load some helper functions, e.g. to load values from settings.json\n",
    "#!import config/Settings.cs\n",
    "\n",
    "// Configure AI service credentials used by the kernel\n",
    "var (useAzureOpenAI, model, azureEndpoint, apiKey, orgId) = Settings.LoadFromFile();\n"
   ]
  },
  {
   "cell_type": "code",
   "execution_count": 5,
   "metadata": {
    "dotnet_interactive": {
     "language": "csharp"
    },
    "polyglot_notebook": {
     "kernelName": "csharp"
    },
    "vscode": {
     "languageId": "polyglot-notebook"
    }
   },
   "outputs": [
    {
     "ename": "Error",
     "evalue": "Azure.RequestFailedException: Service request failed.\r\nStatus: 404 (Not Found)\r\n\r\nContent:\r\n404 page not found\r\n\r\nHeaders:\r\nDate: Sat, 08 Jun 2024 18:50:23 GMT\r\nContent-Type: text/plain\r\nContent-Length: 18\r\n\r\n   at Azure.Core.HttpPipelineExtensions.ProcessMessageAsync(HttpPipeline pipeline, HttpMessage message, RequestContext requestContext, CancellationToken cancellationToken)\r\n   at Azure.AI.OpenAI.OpenAIClient.GetChatCompletionsStreamingAsync(ChatCompletionsOptions chatCompletionsOptions, CancellationToken cancellationToken)\r\n   at Microsoft.KernelMemory.AI.OpenAI.OpenAITextGenerator.GenerateTextAsync(String prompt, TextGenerationOptions options, CancellationToken cancellationToken)+MoveNext()\r\n   at Microsoft.KernelMemory.AI.OpenAI.OpenAITextGenerator.GenerateTextAsync(String prompt, TextGenerationOptions options, CancellationToken cancellationToken)+System.Threading.Tasks.Sources.IValueTaskSource<System.Boolean>.GetResult()\r\n   at Microsoft.KernelMemory.Search.SearchClient.AskAsync(String index, String question, ICollection`1 filters, Double minRelevance, CancellationToken cancellationToken)\r\n   at Microsoft.KernelMemory.Search.SearchClient.AskAsync(String index, String question, ICollection`1 filters, Double minRelevance, CancellationToken cancellationToken)\r\n   at Submission#7.<<Initialize>>d__0.MoveNext()\r\n--- End of stack trace from previous location ---\r\n   at Microsoft.CodeAnalysis.Scripting.ScriptExecutionState.RunSubmissionsAsync[TResult](ImmutableArray`1 precedingExecutors, Func`2 currentExecutor, StrongBox`1 exceptionHolderOpt, Func`2 catchExceptionOpt, CancellationToken cancellationToken)",
     "output_type": "error",
     "traceback": [
      "Azure.RequestFailedException: Service request failed.\r\n",
      "Status: 404 (Not Found)\r\n",
      "\r\n",
      "Content:\r\n",
      "404 page not found\r\n",
      "\r\n",
      "Headers:\r\n",
      "Date: Sat, 08 Jun 2024 18:50:23 GMT\r\n",
      "Content-Type: text/plain\r\n",
      "Content-Length: 18\r\n",
      "\r\n",
      "   at Azure.Core.HttpPipelineExtensions.ProcessMessageAsync(HttpPipeline pipeline, HttpMessage message, RequestContext requestContext, CancellationToken cancellationToken)\r\n",
      "   at Azure.AI.OpenAI.OpenAIClient.GetChatCompletionsStreamingAsync(ChatCompletionsOptions chatCompletionsOptions, CancellationToken cancellationToken)\r\n",
      "   at Microsoft.KernelMemory.AI.OpenAI.OpenAITextGenerator.GenerateTextAsync(String prompt, TextGenerationOptions options, CancellationToken cancellationToken)+MoveNext()\r\n",
      "   at Microsoft.KernelMemory.AI.OpenAI.OpenAITextGenerator.GenerateTextAsync(String prompt, TextGenerationOptions options, CancellationToken cancellationToken)+System.Threading.Tasks.Sources.IValueTaskSource<System.Boolean>.GetResult()\r\n",
      "   at Microsoft.KernelMemory.Search.SearchClient.AskAsync(String index, String question, ICollection`1 filters, Double minRelevance, CancellationToken cancellationToken)\r\n",
      "   at Microsoft.KernelMemory.Search.SearchClient.AskAsync(String index, String question, ICollection`1 filters, Double minRelevance, CancellationToken cancellationToken)\r\n",
      "   at Submission#7.<<Initialize>>d__0.MoveNext()\r\n",
      "--- End of stack trace from previous location ---\r\n",
      "   at Microsoft.CodeAnalysis.Scripting.ScriptExecutionState.RunSubmissionsAsync[TResult](ImmutableArray`1 precedingExecutors, Func`2 currentExecutor, StrongBox`1 exceptionHolderOpt, Func`2 catchExceptionOpt, CancellationToken cancellationToken)"
     ]
    }
   ],
   "source": [
    "using Microsoft.KernelMemory;\n",
    "\n",
    "// Using OpenAI for embeddings\n",
    "var configEmbedding = new AzureOpenAIConfig {\n",
    "    APIKey=apiKey,\n",
    "    Endpoint=azureEndpoint,\n",
    "    Auth=Microsoft.KernelMemory.AzureOpenAIConfig.AuthTypes.APIKey,\n",
    "    Deployment=\"text-embedding-ada-002\"\n",
    "};\n",
    "\n",
    "// Using LM Studio for text generation\n",
    "var lmStudioConfig = new OpenAIConfig\n",
    "{\n",
    "    Endpoint = \"http://localhost:11434/\",\n",
    "    TextModel = \"phi3\",\n",
    "    TextModelMaxTokenTotal = 4096,\n",
    "    APIKey = \"lm-studio\"\n",
    "};\n",
    "\n",
    "var memory = new KernelMemoryBuilder()\n",
    "    .WithAzureOpenAITextEmbeddingGeneration(configEmbedding) // OpenAI\n",
    "    .WithOpenAITextGeneration(lmStudioConfig) // LM Studio\n",
    "    .Build();\n",
    "\n",
    "// Import some text - This will use OpenAI embeddings\n",
    "await memory.ImportTextAsync(\"Today is October 32nd, 2476\");\n",
    "\n",
    "// Generate an answer - This uses OpenAI for embeddings and finding relevant data, and LM Studio to generate an answer\n",
    "var answer = await memory.AskAsync(\"What's the current date?\");\n",
    "Console.WriteLine(answer.Question);\n",
    "Console.WriteLine(answer.Result);\n"
   ]
  }
 ],
 "metadata": {
  "language_info": {
   "name": "python"
  }
 },
 "nbformat": 4,
 "nbformat_minor": 2
}
