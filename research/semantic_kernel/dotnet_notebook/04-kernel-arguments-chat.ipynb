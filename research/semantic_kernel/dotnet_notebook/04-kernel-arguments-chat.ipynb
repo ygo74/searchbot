{
 "cells": [
  {
   "cell_type": "markdown",
   "metadata": {},
   "source": [
    "# Samples 04-kernel-arguments-chat\n",
    "\n",
    "Source : <https://github.com/microsoft/semantic-kernel/blob/main/dotnet/notebooks/04-kernel-arguments-chat.ipynb>"
   ]
  },
  {
   "cell_type": "code",
   "execution_count": 1,
   "metadata": {
    "dotnet_interactive": {
     "language": "csharp"
    },
    "polyglot_notebook": {
     "kernelName": "csharp"
    },
    "vscode": {
     "languageId": "polyglot-notebook"
    }
   },
   "outputs": [
    {
     "data": {
      "text/html": [
       "<div><div></div><div></div><div><strong>Installed Packages</strong><ul><li><span>Microsoft.SemanticKernel, 1.13.0</span></li></ul></div></div>"
      ]
     },
     "metadata": {},
     "output_type": "display_data"
    }
   ],
   "source": [
    "// Import Semantic Kernel\n",
    "#r \"nuget: Microsoft.SemanticKernel, 1.13.0\""
   ]
  },
  {
   "cell_type": "markdown",
   "metadata": {},
   "source": [
    "## Instantiate the kernel\n"
   ]
  },
  {
   "cell_type": "code",
   "execution_count": 2,
   "metadata": {
    "dotnet_interactive": {
     "language": "csharp"
    },
    "polyglot_notebook": {
     "kernelName": "csharp"
    },
    "vscode": {
     "languageId": "polyglot-notebook"
    }
   },
   "outputs": [
    {
     "name": "stdout",
     "output_type": "stream",
     "text": [
      "Use Azure Open AI : True\n",
      "Model : gpt-4o\n",
      "Azure EndPoint : https://oai-ygo74-switzerland.openai.azure.com/\n"
     ]
    }
   ],
   "source": [
    "// Load some helper functions, e.g. to load values from settings.json\n",
    "#!import config/Settings.cs\n",
    "using Microsoft.SemanticKernel;\n",
    "using Microsoft.SemanticKernel.Connectors.OpenAI;\n",
    "using Kernel = Microsoft.SemanticKernel.Kernel;\n",
    "\n",
    "//Create Kernel builder\n",
    "var builder = Kernel.CreateBuilder();\n",
    "\n",
    "// Configure AI service credentials used by the kernel\n",
    "var (useAzureOpenAI, model, azureEndpoint, apiKey, orgId) = Settings.LoadFromFile();\n",
    "\n",
    "Console.WriteLine($\"Use Azure Open AI : {useAzureOpenAI}\");\n",
    "Console.WriteLine($\"Model : {model}\");\n",
    "Console.WriteLine($\"Azure EndPoint : {azureEndpoint}\");\n",
    "// Console.WriteLine($\"API Key : {apiKey}\");\n",
    "\n",
    "if (useAzureOpenAI)\n",
    "    builder.AddAzureOpenAIChatCompletion(model, azureEndpoint, apiKey);\n",
    "else\n",
    "    builder.AddOpenAIChatCompletion(model, apiKey, orgId);\n",
    "\n",
    "var kernel = builder.Build();"
   ]
  },
  {
   "cell_type": "code",
   "execution_count": 3,
   "metadata": {
    "dotnet_interactive": {
     "language": "csharp"
    },
    "polyglot_notebook": {
     "kernelName": "csharp"
    },
    "vscode": {
     "languageId": "polyglot-notebook"
    }
   },
   "outputs": [],
   "source": [
    "const string skPrompt = @\"\n",
    "ChatBot can have a conversation with you about any topic.\n",
    "It can give explicit instructions or say 'I don't know' if it does not have an answer.\n",
    "\n",
    "{{$history}}\n",
    "User: {{$userInput}}\n",
    "ChatBot:\";\n",
    "\n",
    "var executionSettings = new OpenAIPromptExecutionSettings\n",
    "{\n",
    "    MaxTokens = 2000,\n",
    "    Temperature = 0.7,\n",
    "    TopP = 0.5\n",
    "};"
   ]
  },
  {
   "cell_type": "code",
   "execution_count": 4,
   "metadata": {
    "dotnet_interactive": {
     "language": "csharp"
    },
    "polyglot_notebook": {
     "kernelName": "csharp"
    },
    "vscode": {
     "languageId": "polyglot-notebook"
    }
   },
   "outputs": [],
   "source": [
    "var chatFunction = kernel.CreateFunctionFromPrompt(skPrompt, executionSettings);"
   ]
  },
  {
   "cell_type": "code",
   "execution_count": 5,
   "metadata": {
    "dotnet_interactive": {
     "language": "csharp"
    },
    "polyglot_notebook": {
     "kernelName": "csharp"
    },
    "vscode": {
     "languageId": "polyglot-notebook"
    }
   },
   "outputs": [],
   "source": [
    "var history = \"\";\n",
    "var arguments = new KernelArguments()\n",
    "{\n",
    "    [\"history\"] = history\n",
    "};"
   ]
  },
  {
   "cell_type": "code",
   "execution_count": 6,
   "metadata": {
    "dotnet_interactive": {
     "language": "csharp"
    },
    "polyglot_notebook": {
     "kernelName": "csharp"
    },
    "vscode": {
     "languageId": "polyglot-notebook"
    }
   },
   "outputs": [],
   "source": [
    "var userInput = \"Hi, I'm looking for book suggestions\";\n",
    "arguments[\"userInput\"] = userInput;\n",
    "\n",
    "var bot_answer = await chatFunction.InvokeAsync(kernel, arguments);"
   ]
  },
  {
   "cell_type": "code",
   "execution_count": 7,
   "metadata": {
    "dotnet_interactive": {
     "language": "csharp"
    },
    "polyglot_notebook": {
     "kernelName": "csharp"
    },
    "vscode": {
     "languageId": "polyglot-notebook"
    }
   },
   "outputs": [
    {
     "name": "stdout",
     "output_type": "stream",
     "text": [
      "\n",
      "User: Hi, I'm looking for book suggestions\n",
      "AI: Hi! I'd be happy to help with book suggestions. Could you tell me a bit about what genres or types of books you enjoy? For example, do you like fiction, non-fiction, mystery, fantasy, science fiction, romance, or something else?\n",
      "\r\n"
     ]
    }
   ],
   "source": [
    "history += $\"\\nUser: {userInput}\\nAI: {bot_answer}\\n\";\n",
    "arguments[\"history\"] = history;\n",
    "\n",
    "Console.WriteLine(history);"
   ]
  },
  {
   "cell_type": "code",
   "execution_count": 8,
   "metadata": {
    "dotnet_interactive": {
     "language": "csharp"
    },
    "polyglot_notebook": {
     "kernelName": "csharp"
    },
    "vscode": {
     "languageId": "polyglot-notebook"
    }
   },
   "outputs": [],
   "source": [
    "Func<string, Task> Chat = async (string input) => {\n",
    "    // Save new message in the arguments\n",
    "    arguments[\"userInput\"] = input;\n",
    "\n",
    "    // Process the user message and get an answer\n",
    "    var answer = await chatFunction.InvokeAsync(kernel, arguments);\n",
    "\n",
    "    // Append the new interaction to the chat history\n",
    "    var result = $\"\\nUser: {input}\\nAI: {answer}\\n\";\n",
    "    history += result;\n",
    "\n",
    "    arguments[\"history\"] = history;\n",
    "\n",
    "    // Show the response\n",
    "    Console.WriteLine(result);\n",
    "};"
   ]
  },
  {
   "cell_type": "code",
   "execution_count": 9,
   "metadata": {
    "dotnet_interactive": {
     "language": "csharp"
    },
    "polyglot_notebook": {
     "kernelName": "csharp"
    },
    "vscode": {
     "languageId": "polyglot-notebook"
    }
   },
   "outputs": [
    {
     "name": "stdout",
     "output_type": "stream",
     "text": [
      "\n",
      "User: I would like a non-fiction book suggestion about Greece history. Please only list one book.\n",
      "AI: Sure! I recommend \"The Histories\" by Herodotus. It's a classic work that provides a detailed account of ancient Greece and its surrounding regions, written by the ancient Greek historian Herodotus. This book is often considered one of the foundational works of history in Western literature.\n",
      "\r\n"
     ]
    }
   ],
   "source": [
    "await Chat(\"I would like a non-fiction book suggestion about Greece history. Please only list one book.\");"
   ]
  },
  {
   "cell_type": "code",
   "execution_count": 10,
   "metadata": {
    "dotnet_interactive": {
     "language": "csharp"
    },
    "polyglot_notebook": {
     "kernelName": "csharp"
    },
    "vscode": {
     "languageId": "polyglot-notebook"
    }
   },
   "outputs": [
    {
     "name": "stdout",
     "output_type": "stream",
     "text": [
      "\n",
      "User: that sounds interesting, what are some of the topics I will learn about?\n",
      "AI: In \"The Histories\" by Herodotus, you will learn about a wide range of topics related to ancient Greece and its neighboring regions. Some of the key topics include:\n",
      "\n",
      "1. **The Greco-Persian Wars**: Detailed accounts of the conflicts between the Greek city-states and the Persian Empire.\n",
      "2. **Cultural Practices**: Descriptions of the customs, traditions, and daily life of various peoples, including the Egyptians, Persians, and Scythians.\n",
      "3. **Geography and Ethnography**: Insights into the geography of the ancient world and the diverse cultures that inhabited it.\n",
      "4. **Political History**: Information about the political systems, rulers, and significant events in different regions.\n",
      "5. **Mythology and Legends**: Stories and legends that were part of the oral traditions of various cultures.\n",
      "6. **Economics and Trade**: Discussions on the economic activities, trade routes, and resources of different regions.\n",
      "7. **Military Tactics and Strategies**: Analysis of the military strategies and tactics used in various battles and wars.\n",
      "\n",
      "Herodotus's work is known for its rich narrative style and the breadth of information it covers, making it a fascinating read for anyone interested in ancient history.\n",
      "\r\n"
     ]
    }
   ],
   "source": [
    "await Chat(\"that sounds interesting, what are some of the topics I will learn about?\");"
   ]
  },
  {
   "cell_type": "code",
   "execution_count": 11,
   "metadata": {
    "dotnet_interactive": {
     "language": "csharp"
    },
    "polyglot_notebook": {
     "kernelName": "csharp"
    },
    "vscode": {
     "languageId": "polyglot-notebook"
    }
   },
   "outputs": [
    {
     "name": "stdout",
     "output_type": "stream",
     "text": [
      "\n",
      "User: Which topic from the ones you listed do you think most people find interesting?\n",
      "AI: While interest can vary greatly from person to person, many readers find the accounts of the **Greco-Persian Wars** particularly fascinating. These sections provide detailed narratives of key battles such as the Battle of Marathon, the Battle of Thermopylae, and the Battle of Salamis. The stories of heroism, strategy, and the clash of civilizations often captivate readers and offer a dramatic glimpse into the ancient world. Additionally, the interplay between the relatively small Greek city-states and the vast Persian Empire adds a compelling dynamic to the historical narrative.\n",
      "\r\n"
     ]
    }
   ],
   "source": [
    "await Chat(\"Which topic from the ones you listed do you think most people find interesting?\");"
   ]
  },
  {
   "cell_type": "code",
   "execution_count": 12,
   "metadata": {
    "dotnet_interactive": {
     "language": "csharp"
    },
    "polyglot_notebook": {
     "kernelName": "csharp"
    },
    "vscode": {
     "languageId": "polyglot-notebook"
    }
   },
   "outputs": [
    {
     "name": "stdout",
     "output_type": "stream",
     "text": [
      "\n",
      "User: could you list some more books I could read about the topic(s) you mentioned?\n",
      "AI: Certainly! Here are some more books that delve into the topics mentioned, particularly focusing on the Greco-Persian Wars and related subjects:\n",
      "\n",
      "1. **\"The Persian Wars\" by Herodotus** - This is a more focused edition of Herodotus's work, specifically concentrating on the Greco-Persian Wars.\n",
      "\n",
      "2. **\"The Landmark Herodotus: The Histories\" edited by Robert B. Strassler** - This edition includes extensive maps, annotations, and appendices to help readers better understand Herodotus's work.\n",
      "\n",
      "3. **\"The Greco-Persian Wars\" by Peter Green** - A modern and accessible account of the wars between Greece and Persia, providing context and analysis.\n",
      "\n",
      "4. **\"The Battle of Salamis: The Naval Encounter that Saved Greece—and Western Civilization\" by Barry Strauss** - A detailed and engaging account of the pivotal naval battle during the Greco-Persian Wars.\n",
      "\n",
      "5. **\"Persian Fire: The First World Empire and the Battle for the West\" by Tom Holland** - This book offers a broader perspective on the Persian Empire and its conflicts with Greece, including the famous battles.\n",
      "\n",
      "6. **\"Thermopylae: The Battle That Changed the World\" by Paul Cartledge** - An in-depth look at the Battle of Thermopylae, one of the most famous battles in ancient history.\n",
      "\n",
      "7. **\"The Spartans: The World of the Warrior-Heroes of Ancient Greece\" by Paul Cartledge** - While not solely focused on the Greco-Persian Wars, this book provides valuable insights into Spartan society and their role in the conflicts.\n",
      "\n",
      "These books should provide a comprehensive understanding of the Greco-Persian Wars and related historical contexts.\n",
      "\r\n"
     ]
    }
   ],
   "source": [
    "await Chat(\"could you list some more books I could read about the topic(s) you mentioned?\");"
   ]
  },
  {
   "cell_type": "code",
   "execution_count": 13,
   "metadata": {
    "dotnet_interactive": {
     "language": "csharp"
    },
    "polyglot_notebook": {
     "kernelName": "csharp"
    },
    "vscode": {
     "languageId": "polyglot-notebook"
    }
   },
   "outputs": [
    {
     "name": "stdout",
     "output_type": "stream",
     "text": [
      "\n",
      "User: Hi, I'm looking for book suggestions\n",
      "AI: Hi! I'd be happy to help with book suggestions. Could you tell me a bit about what genres or types of books you enjoy? For example, do you like fiction, non-fiction, mystery, fantasy, science fiction, romance, or something else?\n",
      "\n",
      "User: I would like a non-fiction book suggestion about Greece history. Please only list one book.\n",
      "AI: Sure! I recommend \"The Histories\" by Herodotus. It's a classic work that provides a detailed account of ancient Greece and its surrounding regions, written by the ancient Greek historian Herodotus. This book is often considered one of the foundational works of history in Western literature.\n",
      "\n",
      "User: that sounds interesting, what are some of the topics I will learn about?\n",
      "AI: In \"The Histories\" by Herodotus, you will learn about a wide range of topics related to ancient Greece and its neighboring regions. Some of the key topics include:\n",
      "\n",
      "1. **The Greco-Persian Wars**: Detailed accounts of the conflicts between the Greek city-states and the Persian Empire.\n",
      "2. **Cultural Practices**: Descriptions of the customs, traditions, and daily life of various peoples, including the Egyptians, Persians, and Scythians.\n",
      "3. **Geography and Ethnography**: Insights into the geography of the ancient world and the diverse cultures that inhabited it.\n",
      "4. **Political History**: Information about the political systems, rulers, and significant events in different regions.\n",
      "5. **Mythology and Legends**: Stories and legends that were part of the oral traditions of various cultures.\n",
      "6. **Economics and Trade**: Discussions on the economic activities, trade routes, and resources of different regions.\n",
      "7. **Military Tactics and Strategies**: Analysis of the military strategies and tactics used in various battles and wars.\n",
      "\n",
      "Herodotus's work is known for its rich narrative style and the breadth of information it covers, making it a fascinating read for anyone interested in ancient history.\n",
      "\n",
      "User: Which topic from the ones you listed do you think most people find interesting?\n",
      "AI: While interest can vary greatly from person to person, many readers find the accounts of the **Greco-Persian Wars** particularly fascinating. These sections provide detailed narratives of key battles such as the Battle of Marathon, the Battle of Thermopylae, and the Battle of Salamis. The stories of heroism, strategy, and the clash of civilizations often captivate readers and offer a dramatic glimpse into the ancient world. Additionally, the interplay between the relatively small Greek city-states and the vast Persian Empire adds a compelling dynamic to the historical narrative.\n",
      "\n",
      "User: could you list some more books I could read about the topic(s) you mentioned?\n",
      "AI: Certainly! Here are some more books that delve into the topics mentioned, particularly focusing on the Greco-Persian Wars and related subjects:\n",
      "\n",
      "1. **\"The Persian Wars\" by Herodotus** - This is a more focused edition of Herodotus's work, specifically concentrating on the Greco-Persian Wars.\n",
      "\n",
      "2. **\"The Landmark Herodotus: The Histories\" edited by Robert B. Strassler** - This edition includes extensive maps, annotations, and appendices to help readers better understand Herodotus's work.\n",
      "\n",
      "3. **\"The Greco-Persian Wars\" by Peter Green** - A modern and accessible account of the wars between Greece and Persia, providing context and analysis.\n",
      "\n",
      "4. **\"The Battle of Salamis: The Naval Encounter that Saved Greece—and Western Civilization\" by Barry Strauss** - A detailed and engaging account of the pivotal naval battle during the Greco-Persian Wars.\n",
      "\n",
      "5. **\"Persian Fire: The First World Empire and the Battle for the West\" by Tom Holland** - This book offers a broader perspective on the Persian Empire and its conflicts with Greece, including the famous battles.\n",
      "\n",
      "6. **\"Thermopylae: The Battle That Changed the World\" by Paul Cartledge** - An in-depth look at the Battle of Thermopylae, one of the most famous battles in ancient history.\n",
      "\n",
      "7. **\"The Spartans: The World of the Warrior-Heroes of Ancient Greece\" by Paul Cartledge** - While not solely focused on the Greco-Persian Wars, this book provides valuable insights into Spartan society and their role in the conflicts.\n",
      "\n",
      "These books should provide a comprehensive understanding of the Greco-Persian Wars and related historical contexts.\n",
      "\r\n"
     ]
    }
   ],
   "source": [
    "Console.WriteLine(history);"
   ]
  }
 ],
 "metadata": {
  "kernelspec": {
   "display_name": ".NET (C#)",
   "language": "C#",
   "name": ".net-csharp"
  },
  "language_info": {
   "name": "python"
  },
  "polyglot_notebook": {
   "kernelInfo": {
    "defaultKernelName": "csharp",
    "items": [
     {
      "aliases": [],
      "name": "csharp"
     }
    ]
   }
  }
 },
 "nbformat": 4,
 "nbformat_minor": 2
}
