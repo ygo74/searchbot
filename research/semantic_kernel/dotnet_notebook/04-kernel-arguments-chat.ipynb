{
 "cells": [
  {
   "cell_type": "markdown",
   "metadata": {},
   "source": [
    "# Samples 04-kernel-arguments-chat\n",
    "\n",
    "Source : <https://github.com/microsoft/semantic-kernel/blob/main/dotnet/notebooks/04-kernel-arguments-chat.ipynb>"
   ]
  },
  {
   "cell_type": "code",
   "execution_count": 1,
   "metadata": {
    "dotnet_interactive": {
     "language": "csharp"
    },
    "polyglot_notebook": {
     "kernelName": "csharp"
    },
    "vscode": {
     "languageId": "polyglot-notebook"
    }
   },
   "outputs": [
    {
     "data": {
      "text/html": [
       "<div><div></div><div></div><div><strong>Installed Packages</strong><ul><li><span>Microsoft.SemanticKernel, 1.11.1</span></li></ul></div></div>"
      ]
     },
     "metadata": {},
     "output_type": "display_data"
    }
   ],
   "source": [
    "// Import Semantic Kernel\n",
    "#r \"nuget: Microsoft.SemanticKernel, 1.11.1\""
   ]
  },
  {
   "cell_type": "markdown",
   "metadata": {},
   "source": [
    "## Instantiate the kernel\n"
   ]
  },
  {
   "cell_type": "code",
   "execution_count": 4,
   "metadata": {
    "dotnet_interactive": {
     "language": "csharp"
    },
    "polyglot_notebook": {
     "kernelName": "csharp"
    },
    "vscode": {
     "languageId": "polyglot-notebook"
    }
   },
   "outputs": [
    {
     "name": "stdout",
     "output_type": "stream",
     "text": [
      "Use Azure Open AI : True\n",
      "Model : gpt-35-turbo-16k\n",
      "Azure EndPoint : https://oai-ygo74-switzerland.openai.azure.com/\n"
     ]
    }
   ],
   "source": [
    "// Load some helper functions, e.g. to load values from settings.json\n",
    "#!import config/Settings.cs\n",
    "using Microsoft.SemanticKernel;\n",
    "using Microsoft.SemanticKernel.Connectors.OpenAI;\n",
    "using Kernel = Microsoft.SemanticKernel.Kernel;\n",
    "\n",
    "//Create Kernel builder\n",
    "var builder = Kernel.CreateBuilder();\n",
    "\n",
    "// Configure AI service credentials used by the kernel\n",
    "var (useAzureOpenAI, model, azureEndpoint, apiKey, orgId) = Settings.LoadFromFile();\n",
    "\n",
    "Console.WriteLine($\"Use Azure Open AI : {useAzureOpenAI}\");\n",
    "Console.WriteLine($\"Model : {model}\");\n",
    "Console.WriteLine($\"Azure EndPoint : {azureEndpoint}\");\n",
    "// Console.WriteLine($\"API Key : {apiKey}\");\n",
    "\n",
    "if (useAzureOpenAI)\n",
    "    builder.AddAzureOpenAIChatCompletion(model, azureEndpoint, apiKey);\n",
    "else\n",
    "    builder.AddOpenAIChatCompletion(model, apiKey, orgId);\n",
    "\n",
    "var kernel = builder.Build();"
   ]
  },
  {
   "cell_type": "code",
   "execution_count": 5,
   "metadata": {
    "dotnet_interactive": {
     "language": "csharp"
    },
    "polyglot_notebook": {
     "kernelName": "csharp"
    },
    "vscode": {
     "languageId": "polyglot-notebook"
    }
   },
   "outputs": [],
   "source": [
    "const string skPrompt = @\"\n",
    "ChatBot can have a conversation with you about any topic.\n",
    "It can give explicit instructions or say 'I don't know' if it does not have an answer.\n",
    "\n",
    "{{$history}}\n",
    "User: {{$userInput}}\n",
    "ChatBot:\";\n",
    "\n",
    "var executionSettings = new OpenAIPromptExecutionSettings\n",
    "{\n",
    "    MaxTokens = 2000,\n",
    "    Temperature = 0.7,\n",
    "    TopP = 0.5\n",
    "};"
   ]
  },
  {
   "cell_type": "code",
   "execution_count": 6,
   "metadata": {
    "dotnet_interactive": {
     "language": "csharp"
    },
    "polyglot_notebook": {
     "kernelName": "csharp"
    },
    "vscode": {
     "languageId": "polyglot-notebook"
    }
   },
   "outputs": [],
   "source": [
    "var chatFunction = kernel.CreateFunctionFromPrompt(skPrompt, executionSettings);"
   ]
  },
  {
   "cell_type": "code",
   "execution_count": 7,
   "metadata": {
    "dotnet_interactive": {
     "language": "csharp"
    },
    "polyglot_notebook": {
     "kernelName": "csharp"
    },
    "vscode": {
     "languageId": "polyglot-notebook"
    }
   },
   "outputs": [],
   "source": [
    "var history = \"\";\n",
    "var arguments = new KernelArguments()\n",
    "{\n",
    "    [\"history\"] = history\n",
    "};"
   ]
  },
  {
   "cell_type": "code",
   "execution_count": 8,
   "metadata": {
    "dotnet_interactive": {
     "language": "csharp"
    },
    "polyglot_notebook": {
     "kernelName": "csharp"
    },
    "vscode": {
     "languageId": "polyglot-notebook"
    }
   },
   "outputs": [],
   "source": [
    "var userInput = \"Hi, I'm looking for book suggestions\";\n",
    "arguments[\"userInput\"] = userInput;\n",
    "\n",
    "var bot_answer = await chatFunction.InvokeAsync(kernel, arguments);"
   ]
  },
  {
   "cell_type": "code",
   "execution_count": 9,
   "metadata": {
    "dotnet_interactive": {
     "language": "csharp"
    },
    "polyglot_notebook": {
     "kernelName": "csharp"
    },
    "vscode": {
     "languageId": "polyglot-notebook"
    }
   },
   "outputs": [
    {
     "name": "stdout",
     "output_type": "stream",
     "text": [
      "\n",
      "User: Hi, I'm looking for book suggestions\n",
      "AI: Hi! I'd be happy to help you with book suggestions. What genre or type of book are you interested in?\n",
      "\r\n"
     ]
    }
   ],
   "source": [
    "history += $\"\\nUser: {userInput}\\nAI: {bot_answer}\\n\";\n",
    "arguments[\"history\"] = history;\n",
    "\n",
    "Console.WriteLine(history);"
   ]
  },
  {
   "cell_type": "code",
   "execution_count": 10,
   "metadata": {
    "dotnet_interactive": {
     "language": "csharp"
    },
    "polyglot_notebook": {
     "kernelName": "csharp"
    },
    "vscode": {
     "languageId": "polyglot-notebook"
    }
   },
   "outputs": [],
   "source": [
    "Func<string, Task> Chat = async (string input) => {\n",
    "    // Save new message in the arguments\n",
    "    arguments[\"userInput\"] = input;\n",
    "\n",
    "    // Process the user message and get an answer\n",
    "    var answer = await chatFunction.InvokeAsync(kernel, arguments);\n",
    "\n",
    "    // Append the new interaction to the chat history\n",
    "    var result = $\"\\nUser: {input}\\nAI: {answer}\\n\";\n",
    "    history += result;\n",
    "\n",
    "    arguments[\"history\"] = history;\n",
    "\n",
    "    // Show the response\n",
    "    Console.WriteLine(result);\n",
    "};"
   ]
  },
  {
   "cell_type": "code",
   "execution_count": 11,
   "metadata": {
    "dotnet_interactive": {
     "language": "csharp"
    },
    "polyglot_notebook": {
     "kernelName": "csharp"
    },
    "vscode": {
     "languageId": "polyglot-notebook"
    }
   },
   "outputs": [
    {
     "name": "stdout",
     "output_type": "stream",
     "text": [
      "\n",
      "User: I would like a non-fiction book suggestion about Greece history. Please only list one book.\n",
      "AI: Sure! I would recommend \"The Peloponnesian War\" by Thucydides. It is a classic historical account of the war between Athens and Sparta, providing valuable insights into ancient Greek history.\n",
      "\r\n"
     ]
    }
   ],
   "source": [
    "await Chat(\"I would like a non-fiction book suggestion about Greece history. Please only list one book.\");"
   ]
  },
  {
   "cell_type": "code",
   "execution_count": 12,
   "metadata": {
    "dotnet_interactive": {
     "language": "csharp"
    },
    "polyglot_notebook": {
     "kernelName": "csharp"
    },
    "vscode": {
     "languageId": "polyglot-notebook"
    }
   },
   "outputs": [
    {
     "name": "stdout",
     "output_type": "stream",
     "text": [
      "\n",
      "User: that sounds interesting, what are some of the topics I will learn about?\n",
      "AI: In \"The Peloponnesian War,\" you will learn about the causes and events of the war, the strategies and tactics employed by both sides, the political and social dynamics of ancient Athens and Sparta, the role of other Greek city-states in the conflict, and the long-term consequences of the war on Greek history.\n",
      "\r\n"
     ]
    }
   ],
   "source": [
    "await Chat(\"that sounds interesting, what are some of the topics I will learn about?\");"
   ]
  },
  {
   "cell_type": "code",
   "execution_count": 13,
   "metadata": {
    "dotnet_interactive": {
     "language": "csharp"
    },
    "polyglot_notebook": {
     "kernelName": "csharp"
    },
    "vscode": {
     "languageId": "polyglot-notebook"
    }
   },
   "outputs": [
    {
     "name": "stdout",
     "output_type": "stream",
     "text": [
      "\n",
      "User: Which topic from the ones you listed do you think most people find interesting?\n",
      "AI: I think many people find the political and social dynamics of ancient Athens and Sparta to be particularly interesting. These two city-states had very different forms of government and societal structures, and understanding how they interacted and clashed during the war can provide valuable insights into the ancient Greek world.\n",
      "\r\n"
     ]
    }
   ],
   "source": [
    "await Chat(\"Which topic from the ones you listed do you think most people find interesting?\");"
   ]
  },
  {
   "cell_type": "code",
   "execution_count": 14,
   "metadata": {
    "dotnet_interactive": {
     "language": "csharp"
    },
    "polyglot_notebook": {
     "kernelName": "csharp"
    },
    "vscode": {
     "languageId": "polyglot-notebook"
    }
   },
   "outputs": [
    {
     "name": "stdout",
     "output_type": "stream",
     "text": [
      "\n",
      "User: could you list some more books I could read about the topic(s) you mentioned?\n",
      "AI: Certainly! Here are a few more books you could consider reading about ancient Greek history:\n",
      "\n",
      "1. \"The Histories\" by Herodotus - This is another classic work that provides a comprehensive account of ancient Greek history, including the Persian Wars.\n",
      "\n",
      "2. \"The Rise and Fall of Athens: Nine Greek Lives\" by Plutarch - This book offers biographies of nine influential figures from ancient Athens, providing insights into the political and cultural developments of the city-state.\n",
      "\n",
      "3. \"The Spartans: The World of the Warrior-Heroes of Ancient Greece\" by Paul Cartledge - This book focuses specifically on the history and culture of Sparta, offering a deeper understanding of the Spartan society and its role in ancient Greece.\n",
      "\n",
      "4. \"The Greco-Persian Wars\" by Peter Green - This book delves into the conflicts between the Greek city-states and the Persian Empire, exploring the political, military, and cultural aspects of these wars.\n",
      "\n",
      "5. \"The Classical World: An Epic History from Homer to Hadrian\" by Robin Lane Fox - This book provides a broader overview of ancient Greek and Roman history, including the political, social, and cultural developments of the time.\n",
      "\n",
      "I hope you find these suggestions helpful!\n",
      "\r\n"
     ]
    }
   ],
   "source": [
    "await Chat(\"could you list some more books I could read about the topic(s) you mentioned?\");"
   ]
  },
  {
   "cell_type": "code",
   "execution_count": 15,
   "metadata": {
    "dotnet_interactive": {
     "language": "csharp"
    },
    "polyglot_notebook": {
     "kernelName": "csharp"
    },
    "vscode": {
     "languageId": "polyglot-notebook"
    }
   },
   "outputs": [
    {
     "name": "stdout",
     "output_type": "stream",
     "text": [
      "\n",
      "User: Hi, I'm looking for book suggestions\n",
      "AI: Hi! I'd be happy to help you with book suggestions. What genre or type of book are you interested in?\n",
      "\n",
      "User: I would like a non-fiction book suggestion about Greece history. Please only list one book.\n",
      "AI: Sure! I would recommend \"The Peloponnesian War\" by Thucydides. It is a classic historical account of the war between Athens and Sparta, providing valuable insights into ancient Greek history.\n",
      "\n",
      "User: that sounds interesting, what are some of the topics I will learn about?\n",
      "AI: In \"The Peloponnesian War,\" you will learn about the causes and events of the war, the strategies and tactics employed by both sides, the political and social dynamics of ancient Athens and Sparta, the role of other Greek city-states in the conflict, and the long-term consequences of the war on Greek history.\n",
      "\n",
      "User: Which topic from the ones you listed do you think most people find interesting?\n",
      "AI: I think many people find the political and social dynamics of ancient Athens and Sparta to be particularly interesting. These two city-states had very different forms of government and societal structures, and understanding how they interacted and clashed during the war can provide valuable insights into the ancient Greek world.\n",
      "\n",
      "User: could you list some more books I could read about the topic(s) you mentioned?\n",
      "AI: Certainly! Here are a few more books you could consider reading about ancient Greek history:\n",
      "\n",
      "1. \"The Histories\" by Herodotus - This is another classic work that provides a comprehensive account of ancient Greek history, including the Persian Wars.\n",
      "\n",
      "2. \"The Rise and Fall of Athens: Nine Greek Lives\" by Plutarch - This book offers biographies of nine influential figures from ancient Athens, providing insights into the political and cultural developments of the city-state.\n",
      "\n",
      "3. \"The Spartans: The World of the Warrior-Heroes of Ancient Greece\" by Paul Cartledge - This book focuses specifically on the history and culture of Sparta, offering a deeper understanding of the Spartan society and its role in ancient Greece.\n",
      "\n",
      "4. \"The Greco-Persian Wars\" by Peter Green - This book delves into the conflicts between the Greek city-states and the Persian Empire, exploring the political, military, and cultural aspects of these wars.\n",
      "\n",
      "5. \"The Classical World: An Epic History from Homer to Hadrian\" by Robin Lane Fox - This book provides a broader overview of ancient Greek and Roman history, including the political, social, and cultural developments of the time.\n",
      "\n",
      "I hope you find these suggestions helpful!\n",
      "\r\n"
     ]
    }
   ],
   "source": [
    "Console.WriteLine(history);"
   ]
  }
 ],
 "metadata": {
  "kernelspec": {
   "display_name": ".NET (C#)",
   "language": "C#",
   "name": ".net-csharp"
  },
  "language_info": {
   "name": "python"
  },
  "polyglot_notebook": {
   "kernelInfo": {
    "defaultKernelName": "csharp",
    "items": [
     {
      "aliases": [],
      "name": "csharp"
     }
    ]
   }
  }
 },
 "nbformat": 4,
 "nbformat_minor": 2
}
