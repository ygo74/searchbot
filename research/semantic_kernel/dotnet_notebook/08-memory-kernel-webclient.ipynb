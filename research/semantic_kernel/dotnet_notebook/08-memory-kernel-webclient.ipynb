{
 "cells": [
  {
   "cell_type": "markdown",
   "metadata": {},
   "source": [
    "# Memory Kernel Webclient\n",
    "\n",
    "- source : <https://github.com/microsoft/kernel-memory/blob/main/examples/001-dotnet-WebClient/Program.cs>"
   ]
  },
  {
   "cell_type": "code",
   "execution_count": 1,
   "metadata": {
    "dotnet_interactive": {
     "language": "csharp"
    },
    "polyglot_notebook": {
     "kernelName": "csharp"
    },
    "vscode": {
     "languageId": "polyglot-notebook"
    }
   },
   "outputs": [
    {
     "data": {
      "text/html": [
       "<div><div></div><div></div><div><strong>Installed Packages</strong><ul><li><span>Microsoft.KernelMemory.Core, 0.62.240605.1</span></li><li><span>Microsoft.KernelMemory.WebClient, 0.62.240605.1</span></li></ul></div></div>"
      ]
     },
     "metadata": {},
     "output_type": "display_data"
    }
   ],
   "source": [
    "#r \"nuget: Microsoft.KernelMemory.Core\"\n",
    "#r \"nuget: Microsoft.KernelMemory.WebClient\""
   ]
  },
  {
   "cell_type": "code",
   "execution_count": 2,
   "metadata": {
    "dotnet_interactive": {
     "language": "csharp"
    },
    "polyglot_notebook": {
     "kernelName": "csharp"
    },
    "vscode": {
     "languageId": "polyglot-notebook"
    }
   },
   "outputs": [],
   "source": [
    "using Microsoft.KernelMemory;"
   ]
  },
  {
   "cell_type": "code",
   "execution_count": 3,
   "metadata": {
    "dotnet_interactive": {
     "language": "csharp"
    },
    "polyglot_notebook": {
     "kernelName": "csharp"
    },
    "vscode": {
     "languageId": "polyglot-notebook"
    }
   },
   "outputs": [],
   "source": [
    "var s_memory = new MemoryWebClient(\"http://127.0.0.1:9001/\");"
   ]
  },
  {
   "cell_type": "markdown",
   "metadata": {},
   "source": [
    "## Ingestion"
   ]
  },
  {
   "cell_type": "code",
   "execution_count": 4,
   "metadata": {
    "dotnet_interactive": {
     "language": "csharp"
    },
    "polyglot_notebook": {
     "kernelName": "csharp"
    },
    "vscode": {
     "languageId": "polyglot-notebook"
    }
   },
   "outputs": [
    {
     "name": "stdout",
     "output_type": "stream",
     "text": [
      "Uploading a text file, a Word doc, and a PDF about Kernel Memory\n",
      "- Document Id: doc002\n"
     ]
    }
   ],
   "source": [
    "var filesToUpload = new String[]\n",
    "{\n",
    "    \"D:/OneDrive/Documents/Whitepaper - Top 6 Microservices Patterns-1.pdf\"\n",
    "};\n",
    "if (!await s_memory.IsDocumentReadyAsync(documentId: \"doc002\"))\n",
    "{\n",
    "    Console.WriteLine(\"Uploading a text file, a Word doc, and a PDF about Kernel Memory\");\n",
    "    var docId = await s_memory.ImportDocumentAsync(new Document(\"doc002\")\n",
    "                              .AddFiles(filesToUpload)\n",
    "                              .AddTag(\"user\", \"ygo74\"));\n",
    "    Console.WriteLine($\"- Document Id: {docId}\");\n",
    "}\n",
    "else\n",
    "{\n",
    "   Console.WriteLine(\"doc002 already uploaded.\");\n",
    "}\n"
   ]
  },
  {
   "cell_type": "code",
   "execution_count": 9,
   "metadata": {
    "vscode": {
     "languageId": "polyglot-notebook"
    }
   },
   "outputs": [
    {
     "name": "stdout",
     "output_type": "stream",
     "text": [
      "Ingestion terminated...\r\n"
     ]
    }
   ],
   "source": [
    "while (!await s_memory.IsDocumentReadyAsync(documentId: \"doc002\"))\n",
    "{\n",
    "    Console.WriteLine(\"Waiting for memory ingestion to complete...\");\n",
    "    await Task.Delay(TimeSpan.FromSeconds(2));\n",
    "}\n",
    "Console.WriteLine(\"Ingestion terminated...\");"
   ]
  },
  {
   "cell_type": "code",
   "execution_count": 5,
   "metadata": {
    "dotnet_interactive": {
     "language": "csharp"
    },
    "polyglot_notebook": {
     "kernelName": "csharp"
    },
    "vscode": {
     "languageId": "polyglot-notebook"
    }
   },
   "outputs": [
    {
     "name": "stdout",
     "output_type": "stream",
     "text": [
      "Question: What are the top microservices pattern?\n",
      "\n",
      "Answer: The top microservices patterns are:\n",
      "\n",
      "1. Fine-grained SOA: This pattern involves breaking up services into finer-grained microservices, each with a single purpose. It allows for easier changes and scalability.\n",
      "\n",
      "2. Layered APIs over fine-grained SOA: This pattern categorizes microservices into layers based on their purpose, such as systems, processes, or domain models. It helps manage the complexity of the architecture.\n",
      "\n",
      "3. Message-oriented state management over layered APIs: This pattern focuses on managing state by using message-oriented communication between microservices. It allows for loose coupling and asynchronous communication.\n",
      "\n",
      "4. Event-driven state management over layered APIs: This pattern uses events to manage state in a distributed system. Microservices communicate through events, allowing for scalability and decoupling.\n",
      "\n",
      "5. Isolating state in layered APIs: This pattern involves isolating state within individual microservices, reducing dependencies on external systems. It improves speed of change and allows for better scalability.\n",
      "\n",
      "6. Replicating state in layered APIs (event sourcing): This pattern involves replicating state across multiple microservices using event sourcing. It allows for high availability and fault tolerance.\n",
      "\n",
      "These patterns can be combined and adapted based on the specific needs and constraints of an organization.\n",
      "\n",
      "  Sources:\n",
      "\n",
      "  - /download?index=default&documentId=doc002&filename=Whitepaper - Top 6 Microservices Patterns-1.pdf [Saturday, June 8, 2024]\n",
      "\n",
      "====================================\n",
      "\n"
     ]
    }
   ],
   "source": [
    "var question = \"What are the top microservices pattern?\";\n",
    "Console.WriteLine($\"Question: {question}\");\n",
    "\n",
    "var answer = await s_memory.AskAsync(question, minRelevance: 0);\n",
    "Console.WriteLine($\"\\nAnswer: {answer.Result}\\n\\n  Sources:\\n\");\n",
    "\n",
    "// Show sources / citations\n",
    "foreach (var x in answer.RelevantSources)\n",
    "{\n",
    "    Console.WriteLine(x.SourceUrl != null\n",
    "               ? $\"  - {x.SourceUrl} [{x.Partitions.First().LastUpdate:D}]\"\n",
    "               : $\"  - {x.SourceName}  - {x.Link} [{x.Partitions.First().LastUpdate:D}]\");\n",
    "}\n",
    "\n",
    "Console.WriteLine(\"\\n====================================\\n\");\n"
   ]
  },
  {
   "cell_type": "code",
   "execution_count": 6,
   "metadata": {
    "dotnet_interactive": {
     "language": "csharp"
    },
    "polyglot_notebook": {
     "kernelName": "csharp"
    },
    "vscode": {
     "languageId": "polyglot-notebook"
    }
   },
   "outputs": [
    {
     "name": "stdout",
     "output_type": "stream",
     "text": [
      "Uploading a text file, a Word doc, and a PDF about Kernel Memory\n",
      "- Document Id: doc001\n"
     ]
    }
   ],
   "source": [
    "using System.IO;\n",
    "\n",
    "string path = \"D:/OneDrive/Documents/Voyages/Assurances\";\n",
    "string pattern = \"*.pdf\";\n",
    "var filesToUpload = new List<string>();\n",
    "\n",
    "foreach (string file in Directory.EnumerateFiles(path, pattern, SearchOption.AllDirectories))\n",
    "{\n",
    "    filesToUpload.Add(file);\n",
    "}\n",
    "\n",
    "if (!await s_memory.IsDocumentReadyAsync(documentId: \"doc001\", index: \"assurances\"))\n",
    "{\n",
    "    Console.WriteLine(\"Uploading a text file, a Word doc, and a PDF about Kernel Memory\");\n",
    "    var docId = await s_memory.ImportDocumentAsync(new Document(\"doc001\")\n",
    "                              .AddFiles(filesToUpload)\n",
    "                              .AddTag(\"user\", \"ygo74\"), index: \"assurances\");\n",
    "    Console.WriteLine($\"- Document Id: {docId}\");\n",
    "}\n",
    "else\n",
    "{\n",
    "   Console.WriteLine(\"doc001 already uploaded.\");\n",
    "}\n"
   ]
  },
  {
   "cell_type": "code",
   "execution_count": 8,
   "metadata": {
    "dotnet_interactive": {
     "language": "csharp"
    },
    "polyglot_notebook": {
     "kernelName": "csharp"
    },
    "vscode": {
     "languageId": "polyglot-notebook"
    }
   },
   "outputs": [
    {
     "name": "stdout",
     "output_type": "stream",
     "text": [
      "Ingestion terminated...\r\n"
     ]
    }
   ],
   "source": [
    "while (!await s_memory.IsDocumentReadyAsync(documentId: \"doc001\", index: \"assurances\"))\n",
    "{\n",
    "    Console.WriteLine(\"Waiting for memory ingestion to complete...\");\n",
    "    await Task.Delay(TimeSpan.FromSeconds(2));\n",
    "}\n",
    "Console.WriteLine(\"Ingestion terminated...\");"
   ]
  },
  {
   "cell_type": "code",
   "execution_count": 10,
   "metadata": {
    "dotnet_interactive": {
     "language": "csharp"
    },
    "polyglot_notebook": {
     "kernelName": "csharp"
    },
    "vscode": {
     "languageId": "polyglot-notebook"
    }
   },
   "outputs": [
    {
     "name": "stdout",
     "output_type": "stream",
     "text": [
      "Question: Qu'est-ce qui n'est pas couvert par l'assurance?\n",
      "\n",
      "Answer: Selon les informations fournies, voici ce qui n'est pas couvert par l'assurance :\n",
      "\n",
      "- Les guerres civiles ou étrangères, les émeutes, les mouvements populaires.\n",
      "- La participation volontaire à des émeutes, grèves, rixes ou voies de fait.\n",
      "- Les conséquences de la désintégration du noyau atomique ou toute irradiation provenant d'une source de radioactivité.\n",
      "- Les tremblements de terre, éruptions volcaniques, raz de marée, inondations ou catastrophes naturelles, sauf si couverts par la loi sur l'indemnisation des victimes de catastrophes naturelles.\n",
      "- Les conséquences de l'usage de médicaments, drogues, stupéfiants et produits assimilés non ordonnés médicalement, ainsi que l'usage abusif d'alcool.\n",
      "- Tout acte intentionnel de votre part pouvant entraîner la garantie du contrat.\n",
      "- Les conséquences d'une épidémie ou d'une pandémie causée par une maladie infectieuse contagieuse, sauf si elle entraîne une maladie grave ou le décès d'un assuré ou d'un membre de la famille.\n",
      "- Le vol des bagages, effets et objets personnels laissés sans surveillance dans un lieu public ou entreposés dans un local commun.\n",
      "- L'oubli, la perte, l'échange des bagages.\n",
      "- Le vol sans effraction dûment constatée et verbalisée par une autorité.\n",
      "- Le vol commis par votre personnel durant l'exercice de ses fonctions.\n",
      "- Les dommages accidentels dus au coulage de liquides, matières grasses, colorantes ou corrosives dans les bagages.\n",
      "- La confiscation des biens par les autorités.\n",
      "- Les dommages occasionnés par les mites, rongeurs, brûlures de cigarettes ou source de chaleur non incandescente.\n",
      "- Le vol commis dans une voiture décapotable, break ou autre véhicule sans coffre, sauf si utilisé avec le couvre-bagage livré avec le véhicule.\n",
      "- Les collections, échantillons de représentants de commerce.\n",
      "- La perte, l'oubli ou la détérioration des espèces, documents, livres, passeports, pièces d'identité, titres de transport et cartes de crédit.\n",
      "- Le vol des espèces, documents, livres, titres de transport.\n",
      "- Le vol des bijoux non placés dans un coffre fermé à clé ou non portés.\n",
      "- Le bris des objets fragiles tels que porcelaine, verre, ivoire, poterie, marbre.\n",
      "- Les dommages indirects tels que dépréciation et privation de jouissance.\n",
      "- Certains objets spécifiques tels que prothèses, appareillages, vélos, remorques, titres de valeur, tableaux, lunettes, lentilles de contact, clefs, documents enregistrés sur bandes ou films, matériel professionnel, téléphones portables, smartphones, CD, DVD, GPS, drones, articles de sport, instruments de musique, produits cosmétiques et alimentaires, briquets, stylos, cigarettes, alcools, objets d'art, cannes à pêche, produits de beauté, pellicules photos et objets achetés pendant le voyage.\n",
      "- Les dommages causés intentionnellement par l'assuré en tant que personne physique ou en tant que dirigeant d'une entreprise.\n",
      "- Les dommages résultant de l'usage de véhicules terrestres à moteur.\n",
      "- Les dommages causés par des substances biologiques, chimiques ou nucléaires.\n",
      "- Les dommages causés par des événements politiques majeurs ou des conflits armés dans des zones déconseillées par le Ministère des Affaires étrangères français.\n",
      "- Certains pays et territoires spécifiques exclus de la couverture.\n",
      "\n",
      "  Sources:\n",
      "\n",
      "  - /download?index=assurances&documentId=doc001&filename=Chapka fiche d'information.pdf [Saturday, June 8, 2024]\n",
      "Partition 2 : with relevance 0.8321785\n",
      "\n",
      "----\n",
      "\n",
      "\n",
      "----\n",
      "\n",
      "Partition 1 : with relevance 0.8269651\n",
      "\n",
      "----\n",
      "\n",
      "\n",
      "----\n",
      "\n",
      "  - /download?index=assurances&documentId=doc001&filename=Chapka condition générales_fr.pdf [Saturday, June 8, 2024]\n",
      "Partition 32 : with relevance 0.82834184\n",
      "\n",
      "----\n",
      "\n",
      "\n",
      "----\n",
      "\n",
      "Partition 33 : with relevance 0.8256942\n",
      "\n",
      "----\n",
      "\n",
      "\n",
      "----\n",
      "\n",
      "Partition 37 : with relevance 0.82386124\n",
      "\n",
      "----\n",
      "\n",
      "\n",
      "----\n",
      "\n",
      "Partition 9 : with relevance 0.8230198\n",
      "\n",
      "----\n",
      "\n",
      "\n",
      "----\n",
      "\n",
      "  - /download?index=assurances&documentId=doc001&filename=NoticeVisa.PDF [Saturday, June 8, 2024]\n",
      "Partition 34 : with relevance 0.82352424\n",
      "\n",
      "----\n",
      "\n",
      "\n",
      "----\n",
      "\n",
      "Partition 12 : with relevance 0.8232516\n",
      "\n",
      "----\n",
      "\n",
      "\n",
      "----\n",
      "\n",
      "\n",
      "====================================\n",
      "\n"
     ]
    }
   ],
   "source": [
    "var question = \"Qu'est-ce qui n'est pas couvert par l'assurance?\";\n",
    "Console.WriteLine($\"Question: {question}\");\n",
    "\n",
    "var answer = await s_memory.AskAsync(question, minRelevance: 0, index: \"assurances\");\n",
    "Console.WriteLine($\"\\nAnswer: {answer.Result}\\n\\n  Sources:\\n\");\n",
    "\n",
    "// Show sources / citations\n",
    "foreach (var x in answer.RelevantSources)\n",
    "{\n",
    "    Console.WriteLine(x.SourceUrl != null\n",
    "               ? $\"  - {x.SourceUrl} [{x.Partitions.First().LastUpdate:D}]\"\n",
    "               : $\"  - {x.SourceName}  - {x.Link} [{x.Partitions.First().LastUpdate:D}]\");\n",
    "\n",
    "    foreach(var partition in x.Partitions)\n",
    "    {\n",
    "        Console.WriteLine($\"Partition {partition.PartitionNumber} : with relevance {partition.Relevance}\");\n",
    "        Console.WriteLine(\"\\n----\\n\");\n",
    "        // Console.WriteLine(partition.Text);\n",
    "        Console.WriteLine(\"\\n----\\n\");\n",
    "    }\n",
    "}\n",
    "\n",
    "Console.WriteLine(\"\\n====================================\\n\");\n"
   ]
  },
  {
   "cell_type": "code",
   "execution_count": 12,
   "metadata": {
    "vscode": {
     "languageId": "polyglot-notebook"
    }
   },
   "outputs": [
    {
     "name": "stdout",
     "output_type": "stream",
     "text": [
      "Question: Quels sont les pays et territoires exclus par la couverture de l'assurance? Donne moi la liste sous forme de bullet points\n",
      "\n",
      "Answer: - Afghanistan\n",
      "- Biélorussie\n",
      "- Birmanie/Myanmar\n",
      "- Région de Crimée\n",
      "- Régions de Zaporizhzhia, Kherson, Donetsk et Lougansk\n",
      "- Iran\n",
      "- Corée du Nord\n",
      "- Russie\n",
      "- Syrie\n",
      "- Venezuela\n",
      "\n",
      "  Sources:\n",
      "\n",
      "  - /download?index=assurances&documentId=doc001&filename=Chapka condition générales_fr.pdf [Saturday, June 8, 2024]\n",
      "Partition 59 : with relevance 0.83535385\n",
      "\n",
      "----\n",
      "\n",
      "\n",
      "----\n",
      "\n",
      "Partition 58 : with relevance 0.83513206\n",
      "\n",
      "----\n",
      "\n",
      "\n",
      "----\n",
      "\n",
      "Partition 6 : with relevance 0.82405305\n",
      "\n",
      "----\n",
      "\n",
      "\n",
      "----\n",
      "\n",
      "Partition 9 : with relevance 0.820638\n",
      "\n",
      "----\n",
      "\n",
      "\n",
      "----\n",
      "\n",
      "  - /download?index=assurances&documentId=doc001&filename=922083_visa-premier_230101_fr.pdf [Saturday, June 8, 2024]\n",
      "Partition 6 : with relevance 0.8271673\n",
      "\n",
      "----\n",
      "\n",
      "\n",
      "----\n",
      "\n",
      "  - /download?index=assurances&documentId=doc001&filename=Chapka fiche d'information.pdf [Saturday, June 8, 2024]\n",
      "Partition 3 : with relevance 0.8259117\n",
      "\n",
      "----\n",
      "\n",
      "\n",
      "----\n",
      "\n",
      "Partition 2 : with relevance 0.82154286\n",
      "\n",
      "----\n",
      "\n",
      "\n",
      "----\n",
      "\n",
      "  - /download?index=assurances&documentId=doc001&filename=NoticeVisa.PDF [Saturday, June 8, 2024]\n",
      "Partition 50 : with relevance 0.824116\n",
      "\n",
      "----\n",
      "\n",
      "\n",
      "----\n",
      "\n",
      "\n",
      "====================================\n",
      "\n"
     ]
    }
   ],
   "source": [
    "var question = \"Quels sont les pays et territoires exclus par la couverture de l'assurance? Donne moi la liste sous forme de bullet points\";\n",
    "Console.WriteLine($\"Question: {question}\");\n",
    "\n",
    "var answer = await s_memory.AskAsync(question, minRelevance: 0, index: \"assurances\");\n",
    "Console.WriteLine($\"\\nAnswer: {answer.Result}\\n\\n  Sources:\\n\");\n",
    "\n",
    "// Show sources / citations\n",
    "foreach (var x in answer.RelevantSources)\n",
    "{\n",
    "    Console.WriteLine(x.SourceUrl != null\n",
    "               ? $\"  - {x.SourceUrl} [{x.Partitions.First().LastUpdate:D}]\"\n",
    "               : $\"  - {x.SourceName}  - {x.Link} [{x.Partitions.First().LastUpdate:D}]\");\n",
    "\n",
    "    foreach(var partition in x.Partitions)\n",
    "    {\n",
    "        Console.WriteLine($\"Partition {partition.PartitionNumber} : with relevance {partition.Relevance}\");\n",
    "        Console.WriteLine(\"\\n----\\n\");\n",
    "        // Console.WriteLine(partition.Text);\n",
    "        Console.WriteLine(\"\\n----\\n\");\n",
    "    }\n",
    "}\n",
    "\n",
    "Console.WriteLine(\"\\n====================================\\n\");\n"
   ]
  },
  {
   "cell_type": "code",
   "execution_count": 13,
   "metadata": {
    "vscode": {
     "languageId": "polyglot-notebook"
    }
   },
   "outputs": [
    {
     "name": "stdout",
     "output_type": "stream",
     "text": [
      "Question: Comment doit-on déclarer un sinistre? Précise à qui s'adresser et le délai\n",
      "\n",
      "Answer: Pour déclarer un sinistre, vous devez contacter l'Assureur dès que vous en avez connaissance et au plus tard dans les 15 jours suivant l'événement entraînant la garantie de l'Assureur. Vous pouvez effectuer cette déclaration de sinistre en ligne sur le site internet www.visa-assurances.fr, par courrier à l'adresse indiquée dans les documents de votre contrat, ou par téléphone aux numéros indiqués dans les documents de votre contrat. Le délai de déclaration est très important car si vous ne respectez pas ce délai, sauf cas fortuit ou de force majeure, l'Assureur pourra vous opposer une déchéance de garantie s'il établit que ce retard lui a causé un préjudice.\n",
      "\n",
      "  Sources:\n",
      "\n",
      "  - /download?index=assurances&documentId=doc001&filename=NoticeVisa.PDF [Saturday, June 8, 2024]\n",
      "Partition 44 : with relevance 0.8639126\n",
      "\n",
      "----\n",
      "\n",
      "\n",
      "----\n",
      "\n",
      "Partition 45 : with relevance 0.8421831\n",
      "\n",
      "----\n",
      "\n",
      "\n",
      "----\n",
      "\n",
      "Partition 4 : with relevance 0.83335197\n",
      "\n",
      "----\n",
      "\n",
      "\n",
      "----\n",
      "\n",
      "Partition 5 : with relevance 0.8283626\n",
      "\n",
      "----\n",
      "\n",
      "\n",
      "----\n",
      "\n",
      "  - /download?index=assurances&documentId=doc001&filename=Chapka condition générales_fr.pdf [Saturday, June 8, 2024]\n",
      "Partition 47 : with relevance 0.8501582\n",
      "\n",
      "----\n",
      "\n",
      "\n",
      "----\n",
      "\n",
      "Partition 37 : with relevance 0.84110534\n",
      "\n",
      "----\n",
      "\n",
      "\n",
      "----\n",
      "\n",
      "Partition 1 : with relevance 0.8331071\n",
      "\n",
      "----\n",
      "\n",
      "\n",
      "----\n",
      "\n",
      "Partition 12 : with relevance 0.82954526\n",
      "\n",
      "----\n",
      "\n",
      "\n",
      "----\n",
      "\n",
      "\n",
      "====================================\n",
      "\n"
     ]
    }
   ],
   "source": [
    "var question = \"Comment doit-on déclarer un sinistre? Précise à qui s'adresser et le délai\";\n",
    "Console.WriteLine($\"Question: {question}\");\n",
    "\n",
    "var answer = await s_memory.AskAsync(question, minRelevance: 0, index: \"assurances\");\n",
    "Console.WriteLine($\"\\nAnswer: {answer.Result}\\n\\n  Sources:\\n\");\n",
    "\n",
    "// Show sources / citations\n",
    "foreach (var x in answer.RelevantSources)\n",
    "{\n",
    "    Console.WriteLine(x.SourceUrl != null\n",
    "               ? $\"  - {x.SourceUrl} [{x.Partitions.First().LastUpdate:D}]\"\n",
    "               : $\"  - {x.SourceName}  - {x.Link} [{x.Partitions.First().LastUpdate:D}]\");\n",
    "\n",
    "    foreach(var partition in x.Partitions)\n",
    "    {\n",
    "        Console.WriteLine($\"Partition {partition.PartitionNumber} : with relevance {partition.Relevance}\");\n",
    "        Console.WriteLine(\"\\n----\\n\");\n",
    "        // Console.WriteLine(partition.Text);\n",
    "        Console.WriteLine(\"\\n----\\n\");\n",
    "    }\n",
    "}\n",
    "\n",
    "Console.WriteLine(\"\\n====================================\\n\");\n"
   ]
  }
 ],
 "metadata": {
  "kernelspec": {
   "display_name": ".NET (C#)",
   "language": "C#",
   "name": ".net-csharp"
  },
  "language_info": {
   "name": "python"
  },
  "polyglot_notebook": {
   "kernelInfo": {
    "defaultKernelName": "csharp",
    "items": [
     {
      "aliases": [],
      "name": "csharp"
     }
    ]
   }
  }
 },
 "nbformat": 4,
 "nbformat_minor": 2
}
