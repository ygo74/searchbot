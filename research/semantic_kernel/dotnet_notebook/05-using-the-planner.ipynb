{
 "cells": [
  {
   "cell_type": "markdown",
   "metadata": {},
   "source": [
    "# Using the planner\n",
    "\n",
    "Source : <https://github.com/microsoft/semantic-kernel/blob/main/dotnet/notebooks/05-using-the-planner.ipynb>"
   ]
  },
  {
   "cell_type": "code",
   "execution_count": 2,
   "metadata": {
    "vscode": {
     "languageId": "polyglot-notebook"
    }
   },
   "outputs": [
    {
     "data": {
      "text/html": [
       "<div><div></div><div></div><div><strong>Installed Packages</strong><ul><li><span>Microsoft.SemanticKernel, 1.14.1</span></li></ul></div></div>"
      ]
     },
     "metadata": {},
     "output_type": "display_data"
    },
    {
     "ename": "Error",
     "evalue": "C:\\Users\\Administrator\\.packagemanagement\\nuget\\Projects\\2332--ff7d27be-270e-4eb7-b547-15d0f4041de5\\Project.fsproj : error NU1103: Unable to find a stable package Microsoft.SemanticKernel.Planners.Handlebars with version (>= 0.0.0)\r\nC:\\Users\\Administrator\\.packagemanagement\\nuget\\Projects\\2332--ff7d27be-270e-4eb7-b547-15d0f4041de5\\Project.fsproj : error NU1103:   - Found 26 version(s) in nuget.org [ Nearest version: 1.14.1-preview ]\r\nC:\\Users\\Administrator\\.packagemanagement\\nuget\\Projects\\2332--ff7d27be-270e-4eb7-b547-15d0f4041de5\\Project.fsproj : error NU1103:   - Found 0 version(s) in C:\\Program Files\\dotnet\\sdk\\8.0.206\\FSharp\\library-packs",
     "output_type": "error",
     "traceback": [
      "C:\\Users\\Administrator\\.packagemanagement\\nuget\\Projects\\2332--ff7d27be-270e-4eb7-b547-15d0f4041de5\\Project.fsproj : error NU1103: Unable to find a stable package Microsoft.SemanticKernel.Planners.Handlebars with version (>= 0.0.0)\r\n",
      "C:\\Users\\Administrator\\.packagemanagement\\nuget\\Projects\\2332--ff7d27be-270e-4eb7-b547-15d0f4041de5\\Project.fsproj : error NU1103:   - Found 26 version(s) in nuget.org [ Nearest version: 1.14.1-preview ]\r\n",
      "C:\\Users\\Administrator\\.packagemanagement\\nuget\\Projects\\2332--ff7d27be-270e-4eb7-b547-15d0f4041de5\\Project.fsproj : error NU1103:   - Found 0 version(s) in C:\\Program Files\\dotnet\\sdk\\8.0.206\\FSharp\\library-packs"
     ]
    }
   ],
   "source": [
    "// Import Semantic Kernel\n",
    "#r \"nuget: Microsoft.SemanticKernel, 1.14.1\"\n",
    "#r \"nuget: Microsoft.SemanticKernel.Planners.Handlebars, 1.14.1-preview\""
   ]
  }
 ],
 "metadata": {
  "kernelspec": {
   "display_name": ".NET (C#)",
   "language": "C#",
   "name": ".net-csharp"
  },
  "language_info": {
   "name": "python"
  },
  "polyglot_notebook": {
   "kernelInfo": {
    "defaultKernelName": "csharp",
    "items": [
     {
      "aliases": [],
      "name": "csharp"
     }
    ]
   }
  }
 },
 "nbformat": 4,
 "nbformat_minor": 2
}
