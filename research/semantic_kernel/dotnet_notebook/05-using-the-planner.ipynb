{
 "cells": [
  {
   "cell_type": "markdown",
   "metadata": {},
   "source": [
    "# Using the planner\n",
    "\n",
    "Source : <https://github.com/microsoft/semantic-kernel/blob/main/dotnet/notebooks/05-using-the-planner.ipynb>"
   ]
  },
  {
   "cell_type": "code",
   "execution_count": 3,
   "metadata": {
    "dotnet_interactive": {
     "language": "csharp"
    },
    "polyglot_notebook": {
     "kernelName": "csharp"
    },
    "vscode": {
     "languageId": "polyglot-notebook"
    }
   },
   "outputs": [
    {
     "data": {
      "text/html": [
       "<div><div></div><div></div><div><strong>Installed Packages</strong><ul><li><span>Microsoft.SemanticKernel, 1.14.1</span></li><li><span>Microsoft.SemanticKernel.Planners.Handlebars, 1.14.1-preview</span></li></ul></div></div>"
      ]
     },
     "metadata": {},
     "output_type": "display_data"
    }
   ],
   "source": [
    "// Import Semantic Kernel\n",
    "#r \"nuget: Microsoft.SemanticKernel, 1.14.1\"\n",
    "#r \"nuget: Microsoft.SemanticKernel.Planners.Handlebars, 1.14.1-preview\""
   ]
  },
  {
   "cell_type": "code",
   "execution_count": 4,
   "metadata": {
    "dotnet_interactive": {
     "language": "csharp"
    },
    "polyglot_notebook": {
     "kernelName": "csharp"
    },
    "vscode": {
     "languageId": "polyglot-notebook"
    }
   },
   "outputs": [],
   "source": [
    "#!import config/Settings.cs\n",
    "#!import config/Utils.cs\n",
    "\n",
    "using Microsoft.SemanticKernel;\n",
    "using Microsoft.SemanticKernel.Connectors.OpenAI;\n",
    "using Kernel = Microsoft.SemanticKernel.Kernel;\n",
    "\n",
    "var builder = Kernel.CreateBuilder();\n",
    "\n",
    "// Configure AI backend used by the kernel\n",
    "var (useAzureOpenAI, model, azureEndpoint, apiKey, orgId) = Settings.LoadFromFile();\n",
    "\n",
    "if (useAzureOpenAI)\n",
    "    builder.AddAzureOpenAIChatCompletion(model, azureEndpoint, apiKey);\n",
    "else\n",
    "    builder.AddOpenAIChatCompletion(model, apiKey, orgId);\n",
    "\n",
    "var kernel = builder.Build();"
   ]
  },
  {
   "cell_type": "markdown",
   "metadata": {},
   "source": [
    "## Setting up Handlebars Planner"
   ]
  },
  {
   "cell_type": "code",
   "execution_count": 5,
   "metadata": {
    "dotnet_interactive": {
     "language": "csharp"
    },
    "polyglot_notebook": {
     "kernelName": "csharp"
    },
    "vscode": {
     "languageId": "polyglot-notebook"
    }
   },
   "outputs": [],
   "source": [
    "using Microsoft.SemanticKernel.Planning.Handlebars;\n",
    "\n",
    "#pragma warning disable SKEXP0060\n",
    "\n",
    "var planner = new HandlebarsPlanner();"
   ]
  },
  {
   "cell_type": "markdown",
   "metadata": {},
   "source": [
    "## Providing plugins to the planner"
   ]
  },
  {
   "cell_type": "code",
   "execution_count": 7,
   "metadata": {
    "dotnet_interactive": {
     "language": "csharp"
    },
    "polyglot_notebook": {
     "kernelName": "csharp"
    },
    "vscode": {
     "languageId": "polyglot-notebook"
    }
   },
   "outputs": [],
   "source": [
    "var pluginsDirectory = Path.Combine(System.IO.Directory.GetCurrentDirectory(), \"prompt_template_samples\");\n",
    "\n",
    "kernel.ImportPluginFromPromptDirectory(Path.Combine(pluginsDirectory, \"SummarizePlugin\"));\n",
    "kernel.ImportPluginFromPromptDirectory(Path.Combine(pluginsDirectory, \"WriterPlugin\"));"
   ]
  },
  {
   "cell_type": "markdown",
   "metadata": {},
   "source": [
    "### Define your Ask"
   ]
  },
  {
   "cell_type": "code",
   "execution_count": 8,
   "metadata": {
    "dotnet_interactive": {
     "language": "csharp"
    },
    "polyglot_notebook": {
     "kernelName": "csharp"
    },
    "vscode": {
     "languageId": "polyglot-notebook"
    }
   },
   "outputs": [
    {
     "name": "stdout",
     "output_type": "stream",
     "text": [
      "Original plan:\n",
      "\n",
      "{{!-- Step 0: Extract Key Values --}}\n",
      "{{set \"significantOther\" \"your significant other's name\"}}\n",
      "{{set \"poemLines\" 4}}\n",
      "{{set \"dateIdeas\" (array \"Idea 1\" \"Idea 2\" \"Idea 3\" \"Idea 4\")}}\n",
      "\n",
      "{{!-- Step 1: Generate Date Ideas Poem --}}\n",
      "{{#with \"dateIdeas\" as |ideas|}}\n",
      "  {{#each (range 0 poemLines)}}\n",
      "    {{set \"lineIndex\" @index}}\n",
      "    {{set \"ideaIndex\" (subtract lineIndex 1)}}\n",
      "    {{set \"idea\" (lookup ideas ideaIndex)}}\n",
      "    {{set \"poemLine\" (WriterPlugin-ShortPoem input=idea)}}\n",
      "    {{json poemLine}}\n",
      "  {{/each}}\n",
      "{{/with}}\n"
     ]
    }
   ],
   "source": [
    "#pragma warning disable SKEXP0060\n",
    "\n",
    "var ask = \"\"\"\n",
    "Tomorrow is Valentine's day.\n",
    "I need to come up with a few date ideas. My significant other likes poems so write them in the form of a poem.\"\n",
    "\"\"\";\n",
    "\n",
    "var originalPlan = await planner.CreatePlanAsync(kernel, ask);\n",
    "\n",
    "Console.WriteLine(\"Original plan:\\n\");\n",
    "Console.WriteLine(originalPlan);"
   ]
  },
  {
   "cell_type": "code",
   "execution_count": 9,
   "metadata": {
    "dotnet_interactive": {
     "language": "csharp"
    },
    "polyglot_notebook": {
     "kernelName": "csharp"
    },
    "vscode": {
     "languageId": "polyglot-notebook"
    }
   },
   "outputs": [],
   "source": [
    "string skPrompt = \"\"\"\n",
    "{{$input}}\n",
    "\n",
    "Rewrite the above in the style of Shakespeare.\n",
    "\"\"\";\n",
    "\n",
    "var executionSettings = new OpenAIPromptExecutionSettings\n",
    "{\n",
    "    MaxTokens = 2000,\n",
    "    Temperature = 0.7,\n",
    "    TopP = 0.5\n",
    "};\n",
    "\n",
    "var shakespeareFunction = kernel.CreateFunctionFromPrompt(skPrompt, executionSettings, \"Shakespeare\");"
   ]
  },
  {
   "cell_type": "code",
   "execution_count": 10,
   "metadata": {
    "dotnet_interactive": {
     "language": "csharp"
    },
    "polyglot_notebook": {
     "kernelName": "csharp"
    },
    "vscode": {
     "languageId": "polyglot-notebook"
    }
   },
   "outputs": [
    {
     "name": "stdout",
     "output_type": "stream",
     "text": [
      "Updated plan:\n",
      "\n",
      "{{!-- Step 0: Extract key values --}}\n",
      "{{set \"dateIdeas\" (array \"Thou art like a star, let us go afar, and watch the night sky together\" \"In fair Verona, let us roam, and recreate the love of Romeo and Juliet\" \"By the riverside, let us sit, and read sonnets of love and wit\" \"In Shakespearean attire, let us dance, and enjoy a night of Renaissance\")}}\n",
      "\n",
      "{{!-- Step 1: Generate the poem with date ideas --}}\n",
      "{{#each dateIdeas}}\n",
      "  {{set \"poemLine\" (concat \"For our date on Valentine's day, \" this)}}\n",
      "  {{set \"poem\" (concat poem poemLine \"\\n\")}}\n",
      "{{/each}}\n",
      "\n",
      "{{!-- Step 2: Print the poem --}}\n",
      "{{json (concat \"On Valentine's day, thou shalt have these date ideas:\\n\" poem)}}\n"
     ]
    }
   ],
   "source": [
    "#pragma warning disable SKEXP0060\n",
    "\n",
    "var ask = @\"Tomorrow is Valentine's day. I need to come up with a few date ideas.\n",
    "She likes Shakespeare so write using his style. Write them in the form of a poem.\";\n",
    "\n",
    "var newPlan = await planner.CreatePlanAsync(kernel, ask);\n",
    "\n",
    "Console.WriteLine(\"Updated plan:\\n\");\n",
    "Console.WriteLine(newPlan);"
   ]
  },
  {
   "cell_type": "code",
   "execution_count": 11,
   "metadata": {
    "dotnet_interactive": {
     "language": "csharp"
    },
    "polyglot_notebook": {
     "kernelName": "csharp"
    },
    "vscode": {
     "languageId": "polyglot-notebook"
    }
   },
   "outputs": [
    {
     "name": "stdout",
     "output_type": "stream",
     "text": [
      "Original Plan results:\n",
      "\n",
      "There once was a cat named Fred,\n",
      "Who got stuck in a loaf of bread.\n",
      "He wiggled and squirmed,\n",
      "But his\n",
      "tummy was firm,\n",
      "Now he&#39;s a breaded cat instead!\n",
      "    \n",
      "    \n",
      "    \n",
      "    \n",
      "    There once was a robot\n",
      "named Zero,\n",
      "Who loved to dance the tango.\n",
      "But oh, what a sight,\n",
      "When he danced with all his might,\n",
      "He tripped on his wires and yelled &quot;Oh no!&quot;\n",
      "    \n",
      "    \n",
      "    \n",
      "    \n",
      "    There once was a cat\n",
      "named Fred,\n",
      "Who got stuck in a loaf of bread.\n",
      "He wiggled and squirmed,\n",
      "But his tummy was firm,\n",
      "Now\n",
      "he&#39;s a breaded cat instead!\n",
      "    \n",
      "    \n",
      "    \n",
      "    \n",
      "    There once was a cat named Fred,\n",
      "Who got\n",
      "stuck in a loaf of bread.\n",
      "He wiggled and squirmed,\n",
      "But his tummy was firm,\n",
      "Now he&#39;s a breaded\n",
      "cat instead!\n",
      "    \n",
      "    \n",
      "    \n",
      "    \n",
      "    There once was a cat named Fred,\n",
      "Who got stuck in a loaf of\n",
      "bread.\n",
      "He wiggled and squirmed,\n",
      "But his tummy was firm,\n",
      "Now he&#39;s a breaded cat instead!\n",
      "\n"
     ]
    }
   ],
   "source": [
    "#pragma warning disable SKEXP0060\n",
    "\n",
    "var originalPlanResult = await originalPlan.InvokeAsync(kernel, new KernelArguments());\n",
    "\n",
    "Console.WriteLine(\"Original Plan results:\\n\");\n",
    "Console.WriteLine(Utils.WordWrap(originalPlanResult.ToString(), 100));"
   ]
  },
  {
   "cell_type": "code",
   "execution_count": 18,
   "metadata": {
    "dotnet_interactive": {
     "language": "csharp"
    },
    "polyglot_notebook": {
     "kernelName": "csharp"
    },
    "vscode": {
     "languageId": "polyglot-notebook"
    }
   },
   "outputs": [
    {
     "name": "stdout",
     "output_type": "stream",
     "text": [
      "New Plan results:\n",
      "\n",
      "On Valentine's day, thou shalt have these date ideas:\n",
      "For our date on Valentine's day, Thou art like a star, let us go afar, and watch the night sky together\n",
      "For our date on Valentine's day, In fair Verona, let us roam, and recreate the love of Romeo and Juliet\n",
      "For our date on Valentine's day, By the riverside, let us sit, and read sonnets of love and wit\n",
      "For our date on Valentine's day, In Shakespearean attire, let us dance, and enjoy a night of Renaissance\n",
      "\n"
     ]
    }
   ],
   "source": [
    "#pragma warning disable SKEXP0060\n",
    "\n",
    "var newPlanResult = await newPlan.InvokeAsync(kernel, new KernelArguments());\n",
    "\n",
    "Console.WriteLine(\"New Plan results:\\n\");\n",
    "foreach(var line in newPlanResult.ToString().Split($\"\\\\n\"))\n",
    "{\n",
    "    Console.WriteLine(line);\n",
    "}"
   ]
  }
 ],
 "metadata": {
  "kernelspec": {
   "display_name": ".NET (C#)",
   "language": "C#",
   "name": ".net-csharp"
  },
  "language_info": {
   "name": "python"
  },
  "polyglot_notebook": {
   "kernelInfo": {
    "defaultKernelName": "csharp",
    "items": [
     {
      "aliases": [],
      "name": "csharp"
     }
    ]
   }
  }
 },
 "nbformat": 4,
 "nbformat_minor": 2
}
