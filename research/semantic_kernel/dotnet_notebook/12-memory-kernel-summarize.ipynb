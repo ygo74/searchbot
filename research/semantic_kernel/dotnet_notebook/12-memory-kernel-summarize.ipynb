{
 "cells": [
  {
   "cell_type": "markdown",
   "metadata": {},
   "source": [
    "# Summarize documents\n",
    "\n",
    "(106-dotnet-retrieve-synthetics)[https://github.com/microsoft/kernel-memory/blob/main/examples/106-dotnet-retrieve-synthetics/Program.cs]"
   ]
  },
  {
   "cell_type": "code",
   "execution_count": 1,
   "metadata": {
    "dotnet_interactive": {
     "language": "csharp"
    },
    "polyglot_notebook": {
     "kernelName": "csharp"
    },
    "vscode": {
     "languageId": "polyglot-notebook"
    }
   },
   "outputs": [
    {
     "data": {
      "text/html": [
       "<div><div></div><div></div><div><strong>Installed Packages</strong><ul><li><span>Microsoft.KernelMemory.Core, 0.71.240820.1</span></li></ul></div></div>"
      ]
     },
     "metadata": {},
     "output_type": "display_data"
    }
   ],
   "source": [
    "#r \"nuget: Microsoft.KernelMemory.Core, 0.71.240820.1\""
   ]
  },
  {
   "cell_type": "code",
   "execution_count": 3,
   "metadata": {
    "dotnet_interactive": {
     "language": "csharp"
    },
    "polyglot_notebook": {
     "kernelName": "csharp"
    },
    "vscode": {
     "languageId": "polyglot-notebook"
    }
   },
   "outputs": [
    {
     "name": "stdout",
     "output_type": "stream",
     "text": [
      "Use Azure Open AI : True\n",
      "Model : gpt-4o\n",
      "Azure EndPoint : https://oai-ygo74-switzerland.openai.azure.com/\n"
     ]
    }
   ],
   "source": [
    "// Load some helper functions, e.g. to load values from settings.json\n",
    "#!import config/Settings.cs\n",
    "\n",
    "// Configure AI service credentials used by the kernel\n",
    "var (useAzureOpenAI, model, azureEndpoint, apiKey, orgId) = Settings.LoadFromFile();\n",
    "Console.WriteLine($\"Use Azure Open AI : {useAzureOpenAI}\");\n",
    "Console.WriteLine($\"Model : {model}\");\n",
    "Console.WriteLine($\"Azure EndPoint : {azureEndpoint}\");\n"
   ]
  },
  {
   "cell_type": "code",
   "execution_count": 7,
   "metadata": {
    "dotnet_interactive": {
     "language": "csharp"
    },
    "polyglot_notebook": {
     "kernelName": "csharp"
    },
    "vscode": {
     "languageId": "polyglot-notebook"
    }
   },
   "outputs": [],
   "source": [
    "using Microsoft.KernelMemory;\n",
    "\n",
    "// Using OpenAI for embeddings\n",
    "var configEmbedding = new AzureOpenAIConfig {\n",
    "    APIKey=apiKey,\n",
    "    Endpoint=azureEndpoint,\n",
    "    Auth=Microsoft.KernelMemory.AzureOpenAIConfig.AuthTypes.APIKey,\n",
    "    Deployment=\"text-embedding-ada-002\"\n",
    "};\n",
    "\n",
    "// Using LM Studio for text generation\n",
    "var ollamaConfig = new OpenAIConfig\n",
    "{\n",
    "    Endpoint = \"http://localhost:11434/v1/\",\n",
    "    TextModel = \"phi3\",\n",
    "    TextModelMaxTokenTotal = 4096,\n",
    "    APIKey = \"lm-studio\"\n",
    "};\n",
    "\n",
    "var config = new AzureOpenAIConfig {\n",
    "    APIKey=apiKey,\n",
    "    Endpoint=azureEndpoint,\n",
    "    Auth=Microsoft.KernelMemory.AzureOpenAIConfig.AuthTypes.APIKey,\n",
    "    Deployment=model\n",
    "};\n",
    "\n",
    "var memory = new KernelMemoryBuilder()\n",
    "    .WithAzureOpenAITextEmbeddingGeneration(configEmbedding) // OpenAI\n",
    "    // .WithOpenAITextGeneration(ollamaConfig) // LM Studio\n",
    "    .WithAzureOpenAITextGeneration(config)\n",
    "    .Build();\n"
   ]
  },
  {
   "cell_type": "code",
   "execution_count": 11,
   "metadata": {
    "dotnet_interactive": {
     "language": "csharp"
    },
    "polyglot_notebook": {
     "kernelName": "csharp"
    },
    "vscode": {
     "languageId": "polyglot-notebook"
    }
   },
   "outputs": [],
   "source": [
    "using Microsoft.KernelMemory.Context;\n",
    "\n",
    "var context = new RequestContext();\n",
    "context.SetArg(\"custom_summary_prompt_str\", \"Super extra summarize, use French, use short sentences, no list, no new lines. The answer must be short. Content: {{$input}}. Summary: \");\n",
    "context.SetArg(\"custom_summary_target_token_size_int\", 15); // Try to generate a token no longer than 15 tokens\n",
    "context.SetArg(\"custom_summary_overlapping_tokens_int\", 0); // Disable overlapping tokens"
   ]
  },
  {
   "cell_type": "code",
   "execution_count": 12,
   "metadata": {
    "dotnet_interactive": {
     "language": "csharp"
    },
    "polyglot_notebook": {
     "kernelName": "csharp"
    },
    "vscode": {
     "languageId": "polyglot-notebook"
    }
   },
   "outputs": [],
   "source": [
    "// Import a couple of documents to summarize.\n",
    "// Note that we're using a custom set of steps, asking the pipeline to just summarize the docs (ie skipping chunking)\n",
    "await memory.ImportDocumentAsync(new Document(\"doc1\")\n",
    "        .AddFile(@\"D:\\OneDrive\\Documents\\Enfants\\Noémie\\université\\Lyon\\Logement\\BAIL GOBERT.pdf\"),\n",
    "    steps: Constants.PipelineOnlySummary,\n",
    "    context: context);"
   ]
  },
  {
   "cell_type": "code",
   "execution_count": 13,
   "metadata": {
    "dotnet_interactive": {
     "language": "csharp"
    },
    "polyglot_notebook": {
     "kernelName": "csharp"
    },
    "vscode": {
     "languageId": "polyglot-notebook"
    }
   },
   "outputs": [
    {
     "name": "stdout",
     "output_type": "stream",
     "text": [
      "== BAIL GOBERT.pdf summary ==\n",
      "Sylvie loue un meublé à Noémie à Lyon pour 630€ plus 50€ de charges. Début le 1er août 2022 pour un an. Dépôt de garantie de 1 260€. Résiliation automatique si non-paiement. Respect des règlements et entretien obligatoires. Logement décent fourni. Préavis d'un mois pour résiliation. Bail reconduit annuellement. Sous-location interdite sans accord. Honoraires partagés. Loyer révisable annuellement. Conciliation ou tribunal en cas de litige.\n",
      "\r\n"
     ]
    }
   ],
   "source": [
    "// Fetch the list of summaries. The API returns one summary for each file.\n",
    "var results = await memory.SearchSummariesAsync(filter: MemoryFilters.ByDocument(\"doc1\"));\n",
    "\n",
    "// Print the summaries\n",
    "foreach (var result in results)\n",
    "{\n",
    "    Console.WriteLine($\"== {result.SourceName} summary ==\\n{result.Partitions.First().Text}\\n\");\n",
    "}\n"
   ]
  }
 ],
 "metadata": {
  "kernelspec": {
   "display_name": ".NET (C#)",
   "language": "C#",
   "name": ".net-csharp"
  },
  "language_info": {
   "name": "python"
  },
  "polyglot_notebook": {
   "kernelInfo": {
    "defaultKernelName": "csharp",
    "items": [
     {
      "aliases": [],
      "name": "csharp"
     }
    ]
   }
  }
 },
 "nbformat": 4,
 "nbformat_minor": 2
}
