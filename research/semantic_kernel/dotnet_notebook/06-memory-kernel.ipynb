{
 "cells": [
  {
   "cell_type": "markdown",
   "metadata": {},
   "source": [
    "# Memory Kernel\n",
    "\n",
    "- source : <https://github.com/microsoft/kernel-memory/blob/main/examples/000-notebooks/001-upload-and-ask.ipynb>"
   ]
  },
  {
   "cell_type": "code",
   "execution_count": 1,
   "metadata": {
    "dotnet_interactive": {
     "language": "csharp"
    },
    "polyglot_notebook": {
     "kernelName": "csharp"
    },
    "vscode": {
     "languageId": "polyglot-notebook"
    }
   },
   "outputs": [
    {
     "data": {
      "text/html": [
       "<div><div></div><div></div><div><strong>Installed Packages</strong><ul><li><span>Microsoft.KernelMemory.Core, 0.71.240820.1</span></li></ul></div></div>"
      ]
     },
     "metadata": {},
     "output_type": "display_data"
    }
   ],
   "source": [
    "#r \"nuget: Microsoft.KernelMemory.Core\""
   ]
  },
  {
   "cell_type": "code",
   "execution_count": 2,
   "metadata": {
    "dotnet_interactive": {
     "language": "csharp"
    },
    "polyglot_notebook": {
     "kernelName": "csharp"
    },
    "vscode": {
     "languageId": "polyglot-notebook"
    }
   },
   "outputs": [],
   "source": [
    "// Load some helper functions, e.g. to load values from settings.json\n",
    "#!import config/Settings.cs\n",
    "\n",
    "// Configure AI service credentials used by the kernel\n",
    "var (useAzureOpenAI, model, azureEndpoint, apiKey, orgId) = Settings.LoadFromFile();\n"
   ]
  },
  {
   "cell_type": "code",
   "execution_count": 9,
   "metadata": {
    "dotnet_interactive": {
     "language": "csharp"
    },
    "polyglot_notebook": {
     "kernelName": "csharp"
    },
    "vscode": {
     "languageId": "polyglot-notebook"
    }
   },
   "outputs": [],
   "source": [
    "using Microsoft.KernelMemory;\n",
    "\n",
    "var config = new AzureOpenAIConfig {\n",
    "    APIKey=apiKey,\n",
    "    Endpoint=azureEndpoint,\n",
    "    Auth=Microsoft.KernelMemory.AzureOpenAIConfig.AuthTypes.APIKey,\n",
    "    Deployment=model\n",
    "};\n",
    "\n",
    "var configEmbedding = new AzureOpenAIConfig {\n",
    "    APIKey=apiKey,\n",
    "    Endpoint=azureEndpoint,\n",
    "    Auth=Microsoft.KernelMemory.AzureOpenAIConfig.AuthTypes.APIKey,\n",
    "    Deployment=\"text-embedding-ada-002\"\n",
    "};\n",
    "\n",
    "\n",
    "var memory = new KernelMemoryBuilder()\n",
    "    .WithAzureOpenAITextGeneration(config)\n",
    "    .WithAzureOpenAITextEmbeddingGeneration(configEmbedding)\n",
    "    .Build<MemoryServerless>();"
   ]
  },
  {
   "cell_type": "code",
   "execution_count": 14,
   "metadata": {
    "dotnet_interactive": {
     "language": "csharp"
    },
    "polyglot_notebook": {
     "kernelName": "csharp"
    },
    "vscode": {
     "languageId": "polyglot-notebook"
    }
   },
   "outputs": [],
   "source": [
    "await memory.ImportDocumentAsync(\"D:/OneDrive/Documents/Whitepaper - Top 6 Microservices Patterns-1.pdf\", documentId: \"doc001\");"
   ]
  },
  {
   "cell_type": "code",
   "execution_count": 15,
   "metadata": {
    "dotnet_interactive": {
     "language": "csharp"
    },
    "polyglot_notebook": {
     "kernelName": "csharp"
    },
    "vscode": {
     "languageId": "polyglot-notebook"
    }
   },
   "outputs": [
    {
     "name": "stdout",
     "output_type": "stream",
     "text": [
      "Question: What are the top microservices pattern?\n",
      "\n",
      "Answer: The top microservices patterns, as outlined in the whitepaper, are categorized into three sections: Introductory Patterns, Managed State Patterns, and Foundational Best Practices. Here are the top six microservices patterns:\n",
      "\n",
      "### Section I: Introductory Patterns\n",
      "1. **Fine-grained SOA (Service-Oriented Architecture)**\n",
      "   - This pattern involves breaking down services into smaller, more manageable pieces. It aims to reduce the scope of any given change, allowing it to happen more easily. However, it can lead to increased traffic and complexity in managing a large number of services.\n",
      "\n",
      "2. **Layered APIs over Fine-grained SOA**\n",
      "   - This approach, also known as API-led connectivity, involves creating layers of APIs: System APIs to expose systems, Process APIs to orchestrate them, and Experience APIs to provide end-user experiences. This pattern helps in organizing and managing the complexity of fine-grained SOA.\n",
      "\n",
      "### Section II: Managed State Patterns\n",
      "3. **Message-oriented State Management over Layered APIs**\n",
      "   - This pattern uses messaging systems to manage state across different services. It helps in decoupling services and managing state changes asynchronously, which can improve scalability and resilience.\n",
      "\n",
      "4. **Event-driven State Management over Layered APIs**\n",
      "   - In this pattern, state changes are managed through events. Services publish events when their state changes, and other services subscribe to these events to update their own state. This approach can improve responsiveness and scalability.\n",
      "\n",
      "5. **Isol\r\n"
     ]
    }
   ],
   "source": [
    "var question = \"What are the top microservices pattern?\";\n",
    "\n",
    "var answer = await memory.AskAsync(question);\n",
    "\n",
    "Console.WriteLine($\"Question: {question}\\n\\nAnswer: {answer.Result}\");"
   ]
  },
  {
   "cell_type": "code",
   "execution_count": 19,
   "metadata": {
    "dotnet_interactive": {
     "language": "csharp"
    },
    "polyglot_notebook": {
     "kernelName": "csharp"
    },
    "vscode": {
     "languageId": "polyglot-notebook"
    }
   },
   "outputs": [],
   "source": [
    "await memory.ImportDocumentAsync(\"D:/OneDrive/Documents/Trajets la ciotat.docx\", documentId: \"doc002\");"
   ]
  },
  {
   "cell_type": "code",
   "execution_count": 25,
   "metadata": {
    "dotnet_interactive": {
     "language": "csharp"
    },
    "polyglot_notebook": {
     "kernelName": "csharp"
    },
    "vscode": {
     "languageId": "polyglot-notebook"
    }
   },
   "outputs": [
    {
     "name": "stdout",
     "output_type": "stream",
     "text": [
      "Question: Quelle est la durée du trajet entre Le floch et l'iut?\n",
      "\n",
      "Answer: Le trajet entre Le floch et l'IUT d'AIX-MARSEILLE Département HSE dure environ 9 minutes.\n",
      "Question: Quelle est le parcours entre l'adresse 68 boulevard Jean Jaurès et l'iut?\n",
      "\n",
      "Answer: INFO NOT FOUND\n"
     ]
    }
   ],
   "source": [
    "var question = \"Quelle est la durée du trajet entre Le floch et l'iut?\";\n",
    "\n",
    "var answer = await memory.AskAsync(question);\n",
    "\n",
    "Console.WriteLine($\"Question: {question}\\n\\nAnswer: {answer.Result}\");\n",
    "\n",
    "question = \"Quelle est le parcours entre l'adresse 68 boulevard Jean Jaurès et l'iut?\";\n",
    "\n",
    "answer = await memory.AskAsync(question);\n",
    "\n",
    "Console.WriteLine($\"Question: {question}\\n\\nAnswer: {answer.Result}\");\n"
   ]
  },
  {
   "cell_type": "code",
   "execution_count": 21,
   "metadata": {
    "dotnet_interactive": {
     "language": "csharp"
    },
    "polyglot_notebook": {
     "kernelName": "csharp"
    },
    "vscode": {
     "languageId": "polyglot-notebook"
    }
   },
   "outputs": [],
   "source": [
    "await memory.ImportDocumentAsync(\"D:/OneDrive/Documents/Présentation 1.pptx\", documentId: \"doc003\");"
   ]
  },
  {
   "cell_type": "code",
   "execution_count": 24,
   "metadata": {
    "dotnet_interactive": {
     "language": "csharp"
    },
    "polyglot_notebook": {
     "kernelName": "csharp"
    },
    "vscode": {
     "languageId": "polyglot-notebook"
    }
   },
   "outputs": [
    {
     "name": "stdout",
     "output_type": "stream",
     "text": [
      "Question: Combien y a t'il de domaine de recherches?\n",
      "\n",
      "Answer: INFO NOT FOUND\r\n"
     ]
    }
   ],
   "source": [
    "var question = \"Combien y a t'il de domaine de recherches?\";\n",
    "\n",
    "var answer = await memory.AskAsync(question);\n",
    "\n",
    "Console.WriteLine($\"Question: {question}\\n\\nAnswer: {answer.Result}\");"
   ]
  },
  {
   "cell_type": "code",
   "execution_count": 10,
   "metadata": {
    "dotnet_interactive": {
     "language": "csharp"
    },
    "polyglot_notebook": {
     "kernelName": "csharp"
    },
    "vscode": {
     "languageId": "polyglot-notebook"
    }
   },
   "outputs": [],
   "source": [
    "await memory.ImportDocumentAsync(new Document(\"bail01\")\n",
    "                                    .AddFile(@\"D:\\OneDrive\\Documents\\Enfants\\Noémie\\université\\Lyon\\Logement\\BAIL GOBERT.pdf\")\n",
    "                                    .AddTag(\"child\", \"noemie\")\n",
    "                                    .AddTag(\"city\",\"lyon\"), \"logements\");\n"
   ]
  },
  {
   "cell_type": "code",
   "execution_count": 13,
   "metadata": {
    "dotnet_interactive": {
     "language": "csharp"
    },
    "polyglot_notebook": {
     "kernelName": "csharp"
    },
    "vscode": {
     "languageId": "polyglot-notebook"
    }
   },
   "outputs": [
    {
     "name": "stdout",
     "output_type": "stream",
     "text": [
      "Question: Quelle est l'adresse de la location?\n",
      "\n",
      "Answer: INFO NOT FOUND\r\n"
     ]
    }
   ],
   "source": [
    "//var question = \"Quelles sont les conditions pour donner congé?\";\n",
    "var question = \"Quelle est l'adresse de la location?\";\n",
    "\n",
    "var answer = await memory.AskAsync(question);\n",
    "\n",
    "Console.WriteLine($\"Question: {question}\\n\\nAnswer: {answer.Result}\");"
   ]
  }
 ],
 "metadata": {
  "kernelspec": {
   "display_name": ".NET (C#)",
   "language": "C#",
   "name": ".net-csharp"
  },
  "language_info": {
   "name": "python"
  },
  "polyglot_notebook": {
   "kernelInfo": {
    "defaultKernelName": "csharp",
    "items": [
     {
      "aliases": [],
      "name": "csharp"
     }
    ]
   }
  }
 },
 "nbformat": 4,
 "nbformat_minor": 2
}
