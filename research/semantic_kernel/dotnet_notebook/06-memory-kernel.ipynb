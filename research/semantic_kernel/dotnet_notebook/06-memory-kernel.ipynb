{
 "cells": [
  {
   "cell_type": "markdown",
   "metadata": {},
   "source": [
    "# Memory Kernel\n",
    "\n",
    "- source : <https://github.com/microsoft/kernel-memory/blob/main/examples/000-notebooks/001-upload-and-ask.ipynb>"
   ]
  },
  {
   "cell_type": "code",
   "execution_count": 1,
   "metadata": {
    "dotnet_interactive": {
     "language": "csharp"
    },
    "polyglot_notebook": {
     "kernelName": "csharp"
    },
    "vscode": {
     "languageId": "polyglot-notebook"
    }
   },
   "outputs": [
    {
     "data": {
      "text/html": [
       "<div><div></div><div></div><div><strong>Installed Packages</strong><ul><li><span>Microsoft.KernelMemory.Core, 0.62.240605.1</span></li></ul></div></div>"
      ]
     },
     "metadata": {},
     "output_type": "display_data"
    }
   ],
   "source": [
    "#r \"nuget: Microsoft.KernelMemory.Core\""
   ]
  },
  {
   "cell_type": "code",
   "execution_count": 4,
   "metadata": {
    "dotnet_interactive": {
     "language": "csharp"
    },
    "polyglot_notebook": {
     "kernelName": "csharp"
    },
    "vscode": {
     "languageId": "polyglot-notebook"
    }
   },
   "outputs": [],
   "source": [
    "// Load some helper functions, e.g. to load values from settings.json\n",
    "#!import config/Settings.cs\n",
    "\n",
    "// Configure AI service credentials used by the kernel\n",
    "var (useAzureOpenAI, model, azureEndpoint, apiKey, orgId) = Settings.LoadFromFile();\n"
   ]
  },
  {
   "cell_type": "code",
   "execution_count": 12,
   "metadata": {
    "dotnet_interactive": {
     "language": "csharp"
    },
    "polyglot_notebook": {
     "kernelName": "csharp"
    },
    "vscode": {
     "languageId": "polyglot-notebook"
    }
   },
   "outputs": [],
   "source": [
    "using Microsoft.KernelMemory;\n",
    "\n",
    "var config = new AzureOpenAIConfig {\n",
    "    APIKey=apiKey,\n",
    "    Endpoint=azureEndpoint,\n",
    "    Auth=Microsoft.KernelMemory.AzureOpenAIConfig.AuthTypes.APIKey,\n",
    "    Deployment=model\n",
    "};\n",
    "\n",
    "var configEmbedding = new AzureOpenAIConfig {\n",
    "    APIKey=apiKey,\n",
    "    Endpoint=azureEndpoint,\n",
    "    Auth=Microsoft.KernelMemory.AzureOpenAIConfig.AuthTypes.APIKey,\n",
    "    Deployment=\"text-embedding-ada-002\"\n",
    "};\n",
    "\n",
    "\n",
    "var memory = new KernelMemoryBuilder()\n",
    "    .WithAzureOpenAITextGeneration(config)\n",
    "    .WithAzureOpenAITextEmbeddingGeneration(configEmbedding)\n",
    "    .Build<MemoryServerless>();"
   ]
  },
  {
   "cell_type": "code",
   "execution_count": 13,
   "metadata": {
    "dotnet_interactive": {
     "language": "csharp"
    },
    "polyglot_notebook": {
     "kernelName": "csharp"
    },
    "vscode": {
     "languageId": "polyglot-notebook"
    }
   },
   "outputs": [],
   "source": [
    "await memory.ImportDocumentAsync(\"D:/OneDrive/Documents/Whitepaper - Top 6 Microservices Patterns-1.pdf\", documentId: \"doc001\");"
   ]
  },
  {
   "cell_type": "code",
   "execution_count": 14,
   "metadata": {
    "dotnet_interactive": {
     "language": "csharp"
    },
    "polyglot_notebook": {
     "kernelName": "csharp"
    },
    "vscode": {
     "languageId": "polyglot-notebook"
    }
   },
   "outputs": [
    {
     "name": "stdout",
     "output_type": "stream",
     "text": [
      "Question: What are the top microservices pattern?\n",
      "\n",
      "Answer: The top microservices patterns are:\n",
      "\n",
      "1. Fine-grained SOA: This pattern involves breaking up services into finer-grained microservices, each with a single purpose. It allows for easier changes and scalability.\n",
      "\n",
      "2. Layered APIs over fine-grained SOA: This pattern categorizes microservices into layers based on their purpose, such as systems, processes, or domain models. It helps manage the complexity of the architecture.\n",
      "\n",
      "3. Message-oriented state management over layered APIs: This pattern focuses on managing state by using message-oriented communication between microservices. It allows for loose coupling and asynchronous processing.\n",
      "\n",
      "4. Event-driven state management over layered APIs: This pattern uses events to manage state in a distributed system. Microservices communicate through events, and each microservice reacts to events asynchronously.\n",
      "\n",
      "5. Isolating state in layered APIs: This pattern involves isolating state within each microservice, reducing dependencies on external systems. It allows for better scalability and fault tolerance.\n",
      "\n",
      "6. Replicating state in layered APIs (event sourcing): This pattern involves replicating state across multiple microservices using event sourcing. It allows for auditing, replaying events, and maintaining consistency.\n",
      "\n",
      "These patterns can be combined and adapted based on the specific needs and constraints of an organization.\r\n"
     ]
    }
   ],
   "source": [
    "var question = \"What are the top microservices pattern?\";\n",
    "\n",
    "var answer = await memory.AskAsync(question);\n",
    "\n",
    "Console.WriteLine($\"Question: {question}\\n\\nAnswer: {answer.Result}\");"
   ]
  },
  {
   "cell_type": "code",
   "execution_count": 19,
   "metadata": {
    "dotnet_interactive": {
     "language": "csharp"
    },
    "polyglot_notebook": {
     "kernelName": "csharp"
    },
    "vscode": {
     "languageId": "polyglot-notebook"
    }
   },
   "outputs": [],
   "source": [
    "await memory.ImportDocumentAsync(\"D:/OneDrive/Documents/Trajets la ciotat.docx\", documentId: \"doc002\");"
   ]
  },
  {
   "cell_type": "code",
   "execution_count": 25,
   "metadata": {
    "dotnet_interactive": {
     "language": "csharp"
    },
    "polyglot_notebook": {
     "kernelName": "csharp"
    },
    "vscode": {
     "languageId": "polyglot-notebook"
    }
   },
   "outputs": [
    {
     "name": "stdout",
     "output_type": "stream",
     "text": [
      "Question: Quelle est la durée du trajet entre Le floch et l'iut?\n",
      "\n",
      "Answer: Le trajet entre Le floch et l'IUT d'AIX-MARSEILLE Département HSE dure environ 9 minutes.\n",
      "Question: Quelle est le parcours entre l'adresse 68 boulevard Jean Jaurès et l'iut?\n",
      "\n",
      "Answer: INFO NOT FOUND\n"
     ]
    }
   ],
   "source": [
    "var question = \"Quelle est la durée du trajet entre Le floch et l'iut?\";\n",
    "\n",
    "var answer = await memory.AskAsync(question);\n",
    "\n",
    "Console.WriteLine($\"Question: {question}\\n\\nAnswer: {answer.Result}\");\n",
    "\n",
    "question = \"Quelle est le parcours entre l'adresse 68 boulevard Jean Jaurès et l'iut?\";\n",
    "\n",
    "answer = await memory.AskAsync(question);\n",
    "\n",
    "Console.WriteLine($\"Question: {question}\\n\\nAnswer: {answer.Result}\");\n"
   ]
  },
  {
   "cell_type": "code",
   "execution_count": 21,
   "metadata": {
    "dotnet_interactive": {
     "language": "csharp"
    },
    "polyglot_notebook": {
     "kernelName": "csharp"
    },
    "vscode": {
     "languageId": "polyglot-notebook"
    }
   },
   "outputs": [],
   "source": [
    "await memory.ImportDocumentAsync(\"D:/OneDrive/Documents/Présentation 1.pptx\", documentId: \"doc003\");"
   ]
  },
  {
   "cell_type": "code",
   "execution_count": 24,
   "metadata": {
    "dotnet_interactive": {
     "language": "csharp"
    },
    "polyglot_notebook": {
     "kernelName": "csharp"
    },
    "vscode": {
     "languageId": "polyglot-notebook"
    }
   },
   "outputs": [
    {
     "name": "stdout",
     "output_type": "stream",
     "text": [
      "Question: Combien y a t'il de domaine de recherches?\n",
      "\n",
      "Answer: INFO NOT FOUND\r\n"
     ]
    }
   ],
   "source": [
    "var question = \"Combien y a t'il de domaine de recherches?\";\n",
    "\n",
    "var answer = await memory.AskAsync(question);\n",
    "\n",
    "Console.WriteLine($\"Question: {question}\\n\\nAnswer: {answer.Result}\");"
   ]
  }
 ],
 "metadata": {
  "language_info": {
   "name": "python"
  }
 },
 "nbformat": 4,
 "nbformat_minor": 2
}
