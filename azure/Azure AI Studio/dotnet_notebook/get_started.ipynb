{
 "cells": [
  {
   "cell_type": "code",
   "execution_count": 1,
   "metadata": {
    "dotnet_interactive": {
     "language": "csharp"
    },
    "polyglot_notebook": {
     "kernelName": "csharp"
    },
    "vscode": {
     "languageId": "polyglot-notebook"
    }
   },
   "outputs": [],
   "source": [
    "using System;\n",
    "using System.Collections.Generic;\n",
    "using System.IO;\n",
    "using System.Net.Http;\n",
    "using System.Net.Http.Headers;\n",
    "using System.Text;\n",
    "using System.Threading.Tasks;\n"
   ]
  },
  {
   "cell_type": "code",
   "execution_count": 2,
   "metadata": {
    "dotnet_interactive": {
     "language": "csharp"
    },
    "polyglot_notebook": {
     "kernelName": "csharp"
    },
    "vscode": {
     "languageId": "polyglot-notebook"
    }
   },
   "outputs": [],
   "source": [
    "var handler = new HttpClientHandler()\n",
    "            {\n",
    "                ClientCertificateOptions = ClientCertificateOption.Manual,\n",
    "                ServerCertificateCustomValidationCallback =\n",
    "                        (httpRequestMessage, cert, cetChain, policyErrors) => { return true; }\n",
    "            };"
   ]
  },
  {
   "cell_type": "code",
   "execution_count": 3,
   "metadata": {
    "dotnet_interactive": {
     "language": "csharp"
    },
    "polyglot_notebook": {
     "kernelName": "csharp"
    },
    "vscode": {
     "languageId": "polyglot-notebook"
    }
   },
   "outputs": [],
   "source": [
    "var client = new HttpClient(handler);"
   ]
  },
  {
   "cell_type": "code",
   "execution_count": 17,
   "metadata": {
    "dotnet_interactive": {
     "language": "csharp"
    },
    "polyglot_notebook": {
     "kernelName": "csharp"
    },
    "vscode": {
     "languageId": "polyglot-notebook"
    }
   },
   "outputs": [],
   "source": [
    "var requestBody = @\"{\n",
    "    \"\"input_data\"\": {\n",
    "\t    \"\"input_string\"\": [\n",
    "\t      \"\"Instruct: How use secret in dotnet jupyter notebook?\\nOutput:\"\"\n",
    "\t    ],\n",
    "\t    \"\"parameters\"\": {\n",
    "\t      \"\"top_p\"\": 0.1,\n",
    "\t      \"\"temperature\"\": 0.1,\n",
    "\t      \"\"max_new_tokens\"\": 1000,\n",
    "\t      \"\"do_sample\"\": true\n",
    "\t    }\n",
    "\t  }\n",
    "}\";\n",
    "\n",
    "var content = new StringContent(requestBody);\n",
    "content.Headers.ContentType = new MediaTypeHeaderValue(\"application/json\");\n"
   ]
  },
  {
   "cell_type": "code",
   "execution_count": 5,
   "metadata": {
    "dotnet_interactive": {
     "language": "csharp"
    },
    "polyglot_notebook": {
     "kernelName": "csharp"
    },
    "vscode": {
     "languageId": "polyglot-notebook"
    }
   },
   "outputs": [],
   "source": [
    "// Replace this with the primary/secondary key or AMLToken for the endpoint\n",
    "const string apiKey = \"\";\n",
    "if (string.IsNullOrEmpty(apiKey))\n",
    "{\n",
    "    throw new Exception(\"A key should be provided to invoke the endpoint\");\n",
    "}\n",
    "client.DefaultRequestHeaders.Authorization = new AuthenticationHeaderValue( \"Bearer\", apiKey);\n",
    "client.BaseAddress = new Uri(\"https://ygobert-9486-gyhci.switzerlandnorth.inference.ml.azure.com/score\");\n",
    "\n",
    "// This header will force the request to go to a specific deployment.\n",
    "// Remove this line to have the request observe the endpoint traffic rules\n",
    "content.Headers.Add(\"azureml-model-deployment\", \"msft-phi-2-11\");\n"
   ]
  },
  {
   "cell_type": "code",
   "execution_count": 18,
   "metadata": {
    "dotnet_interactive": {
     "language": "csharp"
    },
    "polyglot_notebook": {
     "kernelName": "csharp"
    },
    "vscode": {
     "languageId": "polyglot-notebook"
    }
   },
   "outputs": [
    {
     "name": "stdout",
     "output_type": "stream",
     "text": [
      "Result: [{\"0\": \"Instruct: How use secret in dotnet jupyter notebook?\\nOutput: To use a secret in a dotnet jupyter notebook, you can use the following code:\\n\\n```\\nimport jupyter_client\\n\\n# Create a client object\\nclient = jupyter_client.JupyterClient()\\n\\n# Get the secret\\nsecret = client.secrets.get_secret_value('my-secret')\\n\\n# Print the secret\\nprint(secret)\\n```\\n\\nThis code creates a client object that connects to the JupyterHub server and retrieves the secret value with the name'my-secret'. You can replace'my-secret' with the name of your secret.\\n\"}]\n"
     ]
    }
   ],
   "source": [
    "// WARNING: The 'await' statement below can result in a deadlock\n",
    "// if you are calling this code from the UI thread of an ASP.Net application.\n",
    "// One way to address this would be to call ConfigureAwait(false)\n",
    "// so that the execution does not attempt to resume on the original context.\n",
    "// For instance, replace code such as:\n",
    "//      result = await DoSomeTask()\n",
    "// with the following:\n",
    "//      result = await DoSomeTask().ConfigureAwait(false)\n",
    "HttpResponseMessage response = await client.PostAsync(\"\", content);\n",
    "\n",
    "if (response.IsSuccessStatusCode)\n",
    "{\n",
    "    string result = await response.Content.ReadAsStringAsync();\n",
    "    Console.WriteLine(\"Result: {0}\", result);\n",
    "}\n",
    "else\n",
    "{\n",
    "    Console.WriteLine(string.Format(\"The request failed with status code: {0}\", response.StatusCode));\n",
    "\n",
    "    // Print the headers - they include the requert ID and the timestamp,\n",
    "    // which are useful for debugging the failure\n",
    "    Console.WriteLine(response.Headers.ToString());\n",
    "\n",
    "    string responseContent = await response.Content.ReadAsStringAsync();\n",
    "    Console.WriteLine(responseContent);\n",
    "}"
   ]
  }
 ],
 "metadata": {
  "language_info": {
   "name": "python"
  }
 },
 "nbformat": 4,
 "nbformat_minor": 2
}
